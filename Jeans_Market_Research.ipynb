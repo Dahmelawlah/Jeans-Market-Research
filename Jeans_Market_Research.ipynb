{
 "cells": [
  {
   "cell_type": "code",
   "execution_count": 1,
   "id": "da28577b",
   "metadata": {},
   "outputs": [
    {
     "name": "stderr",
     "output_type": "stream",
     "text": [
      "Warning message:\n",
      "\"package 'readxl' was built under R version 4.1.3\"\n"
     ]
    }
   ],
   "source": [
    "# Load R Packages to be used on this project\n",
    "library(readxl)\n",
    "library(ggplot2)"
   ]
  },
  {
   "cell_type": "markdown",
   "id": "f97c5dce",
   "metadata": {},
   "source": [
    "# Exploratory Data Analysis"
   ]
  },
  {
   "cell_type": "code",
   "execution_count": 2,
   "id": "03f5fc3e",
   "metadata": {},
   "outputs": [],
   "source": [
    "# Loading the Market Research Dataset\n",
    "jeans_data <- read_excel(\"Market-Research-Data.xls\")"
   ]
  },
  {
   "cell_type": "code",
   "execution_count": 3,
   "id": "bb0f9464",
   "metadata": {
    "scrolled": true
   },
   "outputs": [
    {
     "data": {
      "text/html": [
       "<table class=\"dataframe\">\n",
       "<caption>A tibble: 6 × 13</caption>\n",
       "<thead>\n",
       "\t<tr><th scope=col>Size</th><th scope=col>Age</th><th scope=col>Marital</th><th scope=col>Earners</th><th scope=col>Employ</th><th scope=col>Educ</th><th scope=col>Income</th><th scope=col>JeanShop</th><th scope=col>PayJean</th><th scope=col>Fashion</th><th scope=col>Cost</th><th scope=col>Interest</th><th scope=col>Spend</th></tr>\n",
       "\t<tr><th scope=col>&lt;chr&gt;</th><th scope=col>&lt;chr&gt;</th><th scope=col>&lt;chr&gt;</th><th scope=col>&lt;dbl&gt;</th><th scope=col>&lt;chr&gt;</th><th scope=col>&lt;chr&gt;</th><th scope=col>&lt;chr&gt;</th><th scope=col>&lt;dbl&gt;</th><th scope=col>&lt;dbl&gt;</th><th scope=col>&lt;chr&gt;</th><th scope=col>&lt;chr&gt;</th><th scope=col>&lt;chr&gt;</th><th scope=col>&lt;chr&gt;</th></tr>\n",
       "</thead>\n",
       "<tbody>\n",
       "\t<tr><td>Misses</td><td>45 to 54</td><td>Married</td><td>2</td><td>Full Time </td><td>HighSchl</td><td>35 to 49.9</td><td> 5</td><td>15</td><td>Agree       </td><td>Agree          </td><td>Partly Disagree</td><td>Definitely Disagree</td></tr>\n",
       "\t<tr><td>Misses</td><td>10 to 24</td><td>Single </td><td>1</td><td>Full Time </td><td>CollGrad</td><td>Under 15  </td><td>11</td><td>29</td><td>Partly Agree</td><td>Agree          </td><td>Disagree       </td><td>Partly Disagree    </td></tr>\n",
       "\t<tr><td>Misses</td><td>55 to 64</td><td>Married</td><td>2</td><td>Full Time </td><td>CollGrad</td><td>35 to 49.9</td><td>10</td><td>35</td><td>Disagree    </td><td>Partly Disagree</td><td>Disagree       </td><td>Disagree           </td></tr>\n",
       "\t<tr><td>Misses</td><td>35 to 44</td><td>Married</td><td>2</td><td>Unemployed</td><td>BusNurTe</td><td>50 to 74.9</td><td>10</td><td>45</td><td>Partly Agree</td><td>Defintely Agree</td><td>Disagree       </td><td>Definitely Disagree</td></tr>\n",
       "\t<tr><td>Misses</td><td>55 to 64</td><td>Married</td><td>1</td><td>Unemployed</td><td>BusNurTe</td><td>25 to 34.9</td><td> 5</td><td>12</td><td>Disagree    </td><td>Agree          </td><td>Agree          </td><td>Definitely Disagree</td></tr>\n",
       "\t<tr><td>Junior</td><td>25 to 34</td><td>Married</td><td>2</td><td>Full Time </td><td>GradDeg </td><td>50 to 74.9</td><td> 4</td><td>10</td><td>Agree       </td><td>Agree          </td><td>Partly Disagree</td><td>Agree              </td></tr>\n",
       "</tbody>\n",
       "</table>\n"
      ],
      "text/latex": [
       "A tibble: 6 × 13\n",
       "\\begin{tabular}{lllllllllllll}\n",
       " Size & Age & Marital & Earners & Employ & Educ & Income & JeanShop & PayJean & Fashion & Cost & Interest & Spend\\\\\n",
       " <chr> & <chr> & <chr> & <dbl> & <chr> & <chr> & <chr> & <dbl> & <dbl> & <chr> & <chr> & <chr> & <chr>\\\\\n",
       "\\hline\n",
       "\t Misses & 45 to 54 & Married & 2 & Full Time  & HighSchl & 35 to 49.9 &  5 & 15 & Agree        & Agree           & Partly Disagree & Definitely Disagree\\\\\n",
       "\t Misses & 10 to 24 & Single  & 1 & Full Time  & CollGrad & Under 15   & 11 & 29 & Partly Agree & Agree           & Disagree        & Partly Disagree    \\\\\n",
       "\t Misses & 55 to 64 & Married & 2 & Full Time  & CollGrad & 35 to 49.9 & 10 & 35 & Disagree     & Partly Disagree & Disagree        & Disagree           \\\\\n",
       "\t Misses & 35 to 44 & Married & 2 & Unemployed & BusNurTe & 50 to 74.9 & 10 & 45 & Partly Agree & Defintely Agree & Disagree        & Definitely Disagree\\\\\n",
       "\t Misses & 55 to 64 & Married & 1 & Unemployed & BusNurTe & 25 to 34.9 &  5 & 12 & Disagree     & Agree           & Agree           & Definitely Disagree\\\\\n",
       "\t Junior & 25 to 34 & Married & 2 & Full Time  & GradDeg  & 50 to 74.9 &  4 & 10 & Agree        & Agree           & Partly Disagree & Agree              \\\\\n",
       "\\end{tabular}\n"
      ],
      "text/markdown": [
       "\n",
       "A tibble: 6 × 13\n",
       "\n",
       "| Size &lt;chr&gt; | Age &lt;chr&gt; | Marital &lt;chr&gt; | Earners &lt;dbl&gt; | Employ &lt;chr&gt; | Educ &lt;chr&gt; | Income &lt;chr&gt; | JeanShop &lt;dbl&gt; | PayJean &lt;dbl&gt; | Fashion &lt;chr&gt; | Cost &lt;chr&gt; | Interest &lt;chr&gt; | Spend &lt;chr&gt; |\n",
       "|---|---|---|---|---|---|---|---|---|---|---|---|---|\n",
       "| Misses | 45 to 54 | Married | 2 | Full Time  | HighSchl | 35 to 49.9 |  5 | 15 | Agree        | Agree           | Partly Disagree | Definitely Disagree |\n",
       "| Misses | 10 to 24 | Single  | 1 | Full Time  | CollGrad | Under 15   | 11 | 29 | Partly Agree | Agree           | Disagree        | Partly Disagree     |\n",
       "| Misses | 55 to 64 | Married | 2 | Full Time  | CollGrad | 35 to 49.9 | 10 | 35 | Disagree     | Partly Disagree | Disagree        | Disagree            |\n",
       "| Misses | 35 to 44 | Married | 2 | Unemployed | BusNurTe | 50 to 74.9 | 10 | 45 | Partly Agree | Defintely Agree | Disagree        | Definitely Disagree |\n",
       "| Misses | 55 to 64 | Married | 1 | Unemployed | BusNurTe | 25 to 34.9 |  5 | 12 | Disagree     | Agree           | Agree           | Definitely Disagree |\n",
       "| Junior | 25 to 34 | Married | 2 | Full Time  | GradDeg  | 50 to 74.9 |  4 | 10 | Agree        | Agree           | Partly Disagree | Agree               |\n",
       "\n"
      ],
      "text/plain": [
       "  Size   Age      Marital Earners Employ     Educ     Income     JeanShop\n",
       "1 Misses 45 to 54 Married 2       Full Time  HighSchl 35 to 49.9  5      \n",
       "2 Misses 10 to 24 Single  1       Full Time  CollGrad Under 15   11      \n",
       "3 Misses 55 to 64 Married 2       Full Time  CollGrad 35 to 49.9 10      \n",
       "4 Misses 35 to 44 Married 2       Unemployed BusNurTe 50 to 74.9 10      \n",
       "5 Misses 55 to 64 Married 1       Unemployed BusNurTe 25 to 34.9  5      \n",
       "6 Junior 25 to 34 Married 2       Full Time  GradDeg  50 to 74.9  4      \n",
       "  PayJean Fashion      Cost            Interest        Spend              \n",
       "1 15      Agree        Agree           Partly Disagree Definitely Disagree\n",
       "2 29      Partly Agree Agree           Disagree        Partly Disagree    \n",
       "3 35      Disagree     Partly Disagree Disagree        Disagree           \n",
       "4 45      Partly Agree Defintely Agree Disagree        Definitely Disagree\n",
       "5 12      Disagree     Agree           Agree           Definitely Disagree\n",
       "6 10      Agree        Agree           Partly Disagree Agree              "
      ]
     },
     "metadata": {},
     "output_type": "display_data"
    }
   ],
   "source": [
    "# Exploring the first six rows of dataset\n",
    "head(jeans_data)"
   ]
  },
  {
   "cell_type": "code",
   "execution_count": 4,
   "id": "c8200108",
   "metadata": {},
   "outputs": [
    {
     "data": {
      "text/html": [
       "<table class=\"dataframe\">\n",
       "<caption>A tibble: 6 × 13</caption>\n",
       "<thead>\n",
       "\t<tr><th scope=col>Size</th><th scope=col>Age</th><th scope=col>Marital</th><th scope=col>Earners</th><th scope=col>Employ</th><th scope=col>Educ</th><th scope=col>Income</th><th scope=col>JeanShop</th><th scope=col>PayJean</th><th scope=col>Fashion</th><th scope=col>Cost</th><th scope=col>Interest</th><th scope=col>Spend</th></tr>\n",
       "\t<tr><th scope=col>&lt;chr&gt;</th><th scope=col>&lt;chr&gt;</th><th scope=col>&lt;chr&gt;</th><th scope=col>&lt;dbl&gt;</th><th scope=col>&lt;chr&gt;</th><th scope=col>&lt;chr&gt;</th><th scope=col>&lt;chr&gt;</th><th scope=col>&lt;dbl&gt;</th><th scope=col>&lt;dbl&gt;</th><th scope=col>&lt;chr&gt;</th><th scope=col>&lt;chr&gt;</th><th scope=col>&lt;chr&gt;</th><th scope=col>&lt;chr&gt;</th></tr>\n",
       "</thead>\n",
       "<tbody>\n",
       "\t<tr><td>Misses</td><td>55 to 64</td><td>Married</td><td>999</td><td>Unemployed</td><td>HighSchl</td><td>15 to 24.9</td><td> 5</td><td>  9</td><td>Partly Disagree</td><td>Defintely Agree</td><td>Disagree       </td><td>Disagree       </td></tr>\n",
       "\t<tr><td>Misses</td><td>25 to 34</td><td>Married</td><td>  1</td><td>Part Time </td><td>BusNurTe</td><td>35 to 49.9</td><td>10</td><td> 20</td><td>Defintely Agree</td><td>Partly Agree   </td><td>Disagree       </td><td>Agree          </td></tr>\n",
       "\t<tr><td>Misses</td><td>25 to 34</td><td>Married</td><td>  2</td><td>Full Time </td><td>CollGrad</td><td>75 to 99.9</td><td> 6</td><td> 50</td><td>Defintely Agree</td><td>Defintely Agree</td><td>Defintely Agree</td><td>Agree          </td></tr>\n",
       "\t<tr><td>Junior</td><td>45 to 54</td><td>Married</td><td>  2</td><td>Full Time </td><td>SomeColl</td><td>50 to 74.9</td><td> 6</td><td> 45</td><td>Agree          </td><td>Partly Agree   </td><td>Partly Agree   </td><td>Disagree       </td></tr>\n",
       "\t<tr><td>Misses</td><td>25 to 34</td><td>Married</td><td>  1</td><td>Unemployed</td><td>CollGrad</td><td>35 to 49.9</td><td> 5</td><td>999</td><td>Partly Disagree</td><td>Partly Agree   </td><td>Partly Disagree</td><td>Agree          </td></tr>\n",
       "\t<tr><td>Junior</td><td>10 to 24</td><td>Single </td><td>  2</td><td>Unemployed</td><td>SomeHigh</td><td>50 to 74.9</td><td> 6</td><td> 25</td><td>Agree          </td><td>Agree          </td><td>Partly Disagree</td><td>Defintely Agree</td></tr>\n",
       "</tbody>\n",
       "</table>\n"
      ],
      "text/latex": [
       "A tibble: 6 × 13\n",
       "\\begin{tabular}{lllllllllllll}\n",
       " Size & Age & Marital & Earners & Employ & Educ & Income & JeanShop & PayJean & Fashion & Cost & Interest & Spend\\\\\n",
       " <chr> & <chr> & <chr> & <dbl> & <chr> & <chr> & <chr> & <dbl> & <dbl> & <chr> & <chr> & <chr> & <chr>\\\\\n",
       "\\hline\n",
       "\t Misses & 55 to 64 & Married & 999 & Unemployed & HighSchl & 15 to 24.9 &  5 &   9 & Partly Disagree & Defintely Agree & Disagree        & Disagree       \\\\\n",
       "\t Misses & 25 to 34 & Married &   1 & Part Time  & BusNurTe & 35 to 49.9 & 10 &  20 & Defintely Agree & Partly Agree    & Disagree        & Agree          \\\\\n",
       "\t Misses & 25 to 34 & Married &   2 & Full Time  & CollGrad & 75 to 99.9 &  6 &  50 & Defintely Agree & Defintely Agree & Defintely Agree & Agree          \\\\\n",
       "\t Junior & 45 to 54 & Married &   2 & Full Time  & SomeColl & 50 to 74.9 &  6 &  45 & Agree           & Partly Agree    & Partly Agree    & Disagree       \\\\\n",
       "\t Misses & 25 to 34 & Married &   1 & Unemployed & CollGrad & 35 to 49.9 &  5 & 999 & Partly Disagree & Partly Agree    & Partly Disagree & Agree          \\\\\n",
       "\t Junior & 10 to 24 & Single  &   2 & Unemployed & SomeHigh & 50 to 74.9 &  6 &  25 & Agree           & Agree           & Partly Disagree & Defintely Agree\\\\\n",
       "\\end{tabular}\n"
      ],
      "text/markdown": [
       "\n",
       "A tibble: 6 × 13\n",
       "\n",
       "| Size &lt;chr&gt; | Age &lt;chr&gt; | Marital &lt;chr&gt; | Earners &lt;dbl&gt; | Employ &lt;chr&gt; | Educ &lt;chr&gt; | Income &lt;chr&gt; | JeanShop &lt;dbl&gt; | PayJean &lt;dbl&gt; | Fashion &lt;chr&gt; | Cost &lt;chr&gt; | Interest &lt;chr&gt; | Spend &lt;chr&gt; |\n",
       "|---|---|---|---|---|---|---|---|---|---|---|---|---|\n",
       "| Misses | 55 to 64 | Married | 999 | Unemployed | HighSchl | 15 to 24.9 |  5 |   9 | Partly Disagree | Defintely Agree | Disagree        | Disagree        |\n",
       "| Misses | 25 to 34 | Married |   1 | Part Time  | BusNurTe | 35 to 49.9 | 10 |  20 | Defintely Agree | Partly Agree    | Disagree        | Agree           |\n",
       "| Misses | 25 to 34 | Married |   2 | Full Time  | CollGrad | 75 to 99.9 |  6 |  50 | Defintely Agree | Defintely Agree | Defintely Agree | Agree           |\n",
       "| Junior | 45 to 54 | Married |   2 | Full Time  | SomeColl | 50 to 74.9 |  6 |  45 | Agree           | Partly Agree    | Partly Agree    | Disagree        |\n",
       "| Misses | 25 to 34 | Married |   1 | Unemployed | CollGrad | 35 to 49.9 |  5 | 999 | Partly Disagree | Partly Agree    | Partly Disagree | Agree           |\n",
       "| Junior | 10 to 24 | Single  |   2 | Unemployed | SomeHigh | 50 to 74.9 |  6 |  25 | Agree           | Agree           | Partly Disagree | Defintely Agree |\n",
       "\n"
      ],
      "text/plain": [
       "  Size   Age      Marital Earners Employ     Educ     Income     JeanShop\n",
       "1 Misses 55 to 64 Married 999     Unemployed HighSchl 15 to 24.9  5      \n",
       "2 Misses 25 to 34 Married   1     Part Time  BusNurTe 35 to 49.9 10      \n",
       "3 Misses 25 to 34 Married   2     Full Time  CollGrad 75 to 99.9  6      \n",
       "4 Junior 45 to 54 Married   2     Full Time  SomeColl 50 to 74.9  6      \n",
       "5 Misses 25 to 34 Married   1     Unemployed CollGrad 35 to 49.9  5      \n",
       "6 Junior 10 to 24 Single    2     Unemployed SomeHigh 50 to 74.9  6      \n",
       "  PayJean Fashion         Cost            Interest        Spend          \n",
       "1   9     Partly Disagree Defintely Agree Disagree        Disagree       \n",
       "2  20     Defintely Agree Partly Agree    Disagree        Agree          \n",
       "3  50     Defintely Agree Defintely Agree Defintely Agree Agree          \n",
       "4  45     Agree           Partly Agree    Partly Agree    Disagree       \n",
       "5 999     Partly Disagree Partly Agree    Partly Disagree Agree          \n",
       "6  25     Agree           Agree           Partly Disagree Defintely Agree"
      ]
     },
     "metadata": {},
     "output_type": "display_data"
    }
   ],
   "source": [
    "# Exploring the last six rows of dataset\n",
    "tail(jeans_data)"
   ]
  },
  {
   "cell_type": "code",
   "execution_count": 5,
   "id": "ce32a96c",
   "metadata": {},
   "outputs": [
    {
     "data": {
      "text/html": [
       "<style>\n",
       ".list-inline {list-style: none; margin:0; padding: 0}\n",
       ".list-inline>li {display: inline-block}\n",
       ".list-inline>li:not(:last-child)::after {content: \"\\00b7\"; padding: 0 .5ex}\n",
       "</style>\n",
       "<ol class=list-inline><li>394</li><li>13</li></ol>\n"
      ],
      "text/latex": [
       "\\begin{enumerate*}\n",
       "\\item 394\n",
       "\\item 13\n",
       "\\end{enumerate*}\n"
      ],
      "text/markdown": [
       "1. 394\n",
       "2. 13\n",
       "\n",
       "\n"
      ],
      "text/plain": [
       "[1] 394  13"
      ]
     },
     "metadata": {},
     "output_type": "display_data"
    }
   ],
   "source": [
    "# Checking the dimension of the dataset. Rows by Column\n",
    "dim(jeans_data)"
   ]
  },
  {
   "cell_type": "code",
   "execution_count": 6,
   "id": "a50a1b5d",
   "metadata": {},
   "outputs": [
    {
     "name": "stdout",
     "output_type": "stream",
     "text": [
      "tibble [394 x 13] (S3: tbl_df/tbl/data.frame)\n",
      " $ Size    : chr [1:394] \"Misses\" \"Misses\" \"Misses\" \"Misses\" ...\n",
      " $ Age     : chr [1:394] \"45 to 54\" \"10 to 24\" \"55 to 64\" \"35 to 44\" ...\n",
      " $ Marital : chr [1:394] \"Married\" \"Single\" \"Married\" \"Married\" ...\n",
      " $ Earners : num [1:394] 2 1 2 2 1 2 1 1 1 1 ...\n",
      " $ Employ  : chr [1:394] \"Full Time\" \"Full Time\" \"Full Time\" \"Unemployed\" ...\n",
      " $ Educ    : chr [1:394] \"HighSchl\" \"CollGrad\" \"CollGrad\" \"BusNurTe\" ...\n",
      " $ Income  : chr [1:394] \"35 to 49.9\" \"Under 15\" \"35 to 49.9\" \"50 to 74.9\" ...\n",
      " $ JeanShop: num [1:394] 5 11 10 10 5 4 9 5 3 10 ...\n",
      " $ PayJean : num [1:394] 15 29 35 45 12 10 56 20 42 25 ...\n",
      " $ Fashion : chr [1:394] \"Agree\" \"Partly Agree\" \"Disagree\" \"Partly Agree\" ...\n",
      " $ Cost    : chr [1:394] \"Agree\" \"Agree\" \"Partly Disagree\" \"Defintely Agree\" ...\n",
      " $ Interest: chr [1:394] \"Partly Disagree\" \"Disagree\" \"Disagree\" \"Disagree\" ...\n",
      " $ Spend   : chr [1:394] \"Definitely Disagree\" \"Partly Disagree\" \"Disagree\" \"Definitely Disagree\" ...\n"
     ]
    }
   ],
   "source": [
    "# Checking the Classes (Datatypes) of the Dataset\n",
    "str(jeans_data)"
   ]
  },
  {
   "cell_type": "code",
   "execution_count": 7,
   "id": "eb25b8b1",
   "metadata": {},
   "outputs": [
    {
     "data": {
      "text/html": [
       "6"
      ],
      "text/latex": [
       "6"
      ],
      "text/markdown": [
       "6"
      ],
      "text/plain": [
       "[1] 6"
      ]
     },
     "metadata": {},
     "output_type": "display_data"
    },
    {
     "data": {
      "text/html": [
       "<dl>\n",
       "\t<dt>$Size</dt>\n",
       "\t\t<dd></dd>\n",
       "\t<dt>$Age</dt>\n",
       "\t\t<dd></dd>\n",
       "\t<dt>$Marital</dt>\n",
       "\t\t<dd></dd>\n",
       "\t<dt>$Earners</dt>\n",
       "\t\t<dd></dd>\n",
       "\t<dt>$Employ</dt>\n",
       "\t\t<dd></dd>\n",
       "\t<dt>$Educ</dt>\n",
       "\t\t<dd></dd>\n",
       "\t<dt>$Income</dt>\n",
       "\t\t<dd></dd>\n",
       "\t<dt>$JeanShop</dt>\n",
       "\t\t<dd></dd>\n",
       "\t<dt>$PayJean</dt>\n",
       "\t\t<dd></dd>\n",
       "\t<dt>$Fashion</dt>\n",
       "\t\t<dd></dd>\n",
       "\t<dt>$Cost</dt>\n",
       "\t\t<dd>137</dd>\n",
       "\t<dt>$Interest</dt>\n",
       "\t\t<dd><style>\n",
       ".list-inline {list-style: none; margin:0; padding: 0}\n",
       ".list-inline>li {display: inline-block}\n",
       ".list-inline>li:not(:last-child)::after {content: \"\\00b7\"; padding: 0 .5ex}\n",
       "</style>\n",
       "<ol class=list-inline><li>78</li><li>94</li><li>99</li><li>137</li><li>253</li></ol>\n",
       "</dd>\n",
       "\t<dt>$Spend</dt>\n",
       "\t\t<dd></dd>\n",
       "</dl>\n"
      ],
      "text/latex": [
       "\\begin{description}\n",
       "\\item[\\$Size] \n",
       "\\item[\\$Age] \n",
       "\\item[\\$Marital] \n",
       "\\item[\\$Earners] \n",
       "\\item[\\$Employ] \n",
       "\\item[\\$Educ] \n",
       "\\item[\\$Income] \n",
       "\\item[\\$JeanShop] \n",
       "\\item[\\$PayJean] \n",
       "\\item[\\$Fashion] \n",
       "\\item[\\$Cost] 137\n",
       "\\item[\\$Interest] \\begin{enumerate*}\n",
       "\\item 78\n",
       "\\item 94\n",
       "\\item 99\n",
       "\\item 137\n",
       "\\item 253\n",
       "\\end{enumerate*}\n",
       "\n",
       "\\item[\\$Spend] \n",
       "\\end{description}\n"
      ],
      "text/markdown": [
       "$Size\n",
       ":   \n",
       "$Age\n",
       ":   \n",
       "$Marital\n",
       ":   \n",
       "$Earners\n",
       ":   \n",
       "$Employ\n",
       ":   \n",
       "$Educ\n",
       ":   \n",
       "$Income\n",
       ":   \n",
       "$JeanShop\n",
       ":   \n",
       "$PayJean\n",
       ":   \n",
       "$Fashion\n",
       ":   \n",
       "$Cost\n",
       ":   137\n",
       "$Interest\n",
       ":   1. 78\n",
       "2. 94\n",
       "3. 99\n",
       "4. 137\n",
       "5. 253\n",
       "\n",
       "\n",
       "\n",
       "$Spend\n",
       ":   \n",
       "\n",
       "\n"
      ],
      "text/plain": [
       "$Size\n",
       "integer(0)\n",
       "\n",
       "$Age\n",
       "integer(0)\n",
       "\n",
       "$Marital\n",
       "integer(0)\n",
       "\n",
       "$Earners\n",
       "integer(0)\n",
       "\n",
       "$Employ\n",
       "integer(0)\n",
       "\n",
       "$Educ\n",
       "integer(0)\n",
       "\n",
       "$Income\n",
       "integer(0)\n",
       "\n",
       "$JeanShop\n",
       "integer(0)\n",
       "\n",
       "$PayJean\n",
       "integer(0)\n",
       "\n",
       "$Fashion\n",
       "integer(0)\n",
       "\n",
       "$Cost\n",
       "[1] 137\n",
       "\n",
       "$Interest\n",
       "[1]  78  94  99 137 253\n",
       "\n",
       "$Spend\n",
       "integer(0)\n"
      ]
     },
     "metadata": {},
     "output_type": "display_data"
    }
   ],
   "source": [
    "sum(is.na(jeans_data)) # Search columns. Return number of rows with missing values\n",
    "apply(is.na(jeans_data), 2, which) # Find rows where the missing values are."
   ]
  },
  {
   "cell_type": "code",
   "execution_count": 8,
   "id": "152a2fa1",
   "metadata": {},
   "outputs": [
    {
     "data": {
      "text/html": [
       "<style>\n",
       ".list-inline {list-style: none; margin:0; padding: 0}\n",
       ".list-inline>li {display: inline-block}\n",
       ".list-inline>li:not(:last-child)::after {content: \"\\00b7\"; padding: 0 .5ex}\n",
       "</style>\n",
       "<ol class=list-inline><li>'tbl_df'</li><li>'tbl'</li><li>'data.frame'</li></ol>\n"
      ],
      "text/latex": [
       "\\begin{enumerate*}\n",
       "\\item 'tbl\\_df'\n",
       "\\item 'tbl'\n",
       "\\item 'data.frame'\n",
       "\\end{enumerate*}\n"
      ],
      "text/markdown": [
       "1. 'tbl_df'\n",
       "2. 'tbl'\n",
       "3. 'data.frame'\n",
       "\n",
       "\n"
      ],
      "text/plain": [
       "[1] \"tbl_df\"     \"tbl\"        \"data.frame\""
      ]
     },
     "metadata": {},
     "output_type": "display_data"
    }
   ],
   "source": [
    "class(jeans_data)"
   ]
  },
  {
   "cell_type": "code",
   "execution_count": 9,
   "id": "630378c7",
   "metadata": {},
   "outputs": [
    {
     "data": {
      "text/plain": [
       "     Size               Age              Marital             Earners      \n",
       " Length:394         Length:394         Length:394         Min.   :  1.00  \n",
       " Class :character   Class :character   Class :character   1st Qu.:  1.00  \n",
       " Mode  :character   Mode  :character   Mode  :character   Median :  1.00  \n",
       "                                                          Mean   : 54.59  \n",
       "                                                          3rd Qu.:  2.00  \n",
       "                                                          Max.   :999.00  \n",
       "    Employ              Educ              Income             JeanShop     \n",
       " Length:394         Length:394         Length:394         Min.   : 1.000  \n",
       " Class :character   Class :character   Class :character   1st Qu.: 4.000  \n",
       " Mode  :character   Mode  :character   Mode  :character   Median : 5.500  \n",
       "                                                          Mean   : 6.287  \n",
       "                                                          3rd Qu.:10.000  \n",
       "                                                          Max.   :11.000  \n",
       "    PayJean         Fashion              Cost             Interest        \n",
       " Min.   :  7.00   Length:394         Length:394         Length:394        \n",
       " 1st Qu.: 18.00   Class :character   Class :character   Class :character  \n",
       " Median : 25.00   Mode  :character   Mode  :character   Mode  :character  \n",
       " Mean   : 64.59                                                           \n",
       " 3rd Qu.: 38.00                                                           \n",
       " Max.   :999.00                                                           \n",
       "    Spend          \n",
       " Length:394        \n",
       " Class :character  \n",
       " Mode  :character  \n",
       "                   \n",
       "                   \n",
       "                   "
      ]
     },
     "metadata": {},
     "output_type": "display_data"
    }
   ],
   "source": [
    "# Checking the statistical summary of the dataset\n",
    "summary(jeans_data)"
   ]
  },
  {
   "cell_type": "markdown",
   "id": "e1aba6bd",
   "metadata": {},
   "source": [
    "## Data Cleaning"
   ]
  },
  {
   "cell_type": "code",
   "execution_count": 10,
   "id": "f08d0e98",
   "metadata": {},
   "outputs": [],
   "source": [
    "# After observing some anomalous figures in the dataset, it was cleaned. Loading the now cleaned dataset\n",
    "Cleaned_jeans_data <- read_excel(\"Market-Research-Cleaned-Data.xls\")"
   ]
  },
  {
   "cell_type": "code",
   "execution_count": 11,
   "id": "78c686aa",
   "metadata": {},
   "outputs": [
    {
     "data": {
      "text/html": [
       "<table class=\"dataframe\">\n",
       "<caption>A tibble: 6 × 13</caption>\n",
       "<thead>\n",
       "\t<tr><th scope=col>Size</th><th scope=col>Age</th><th scope=col>Marital</th><th scope=col>Earners</th><th scope=col>Employ</th><th scope=col>Educ</th><th scope=col>Income</th><th scope=col>JeanShop</th><th scope=col>PayJean</th><th scope=col>Fashion</th><th scope=col>Cost</th><th scope=col>Interest</th><th scope=col>Spend</th></tr>\n",
       "\t<tr><th scope=col>&lt;chr&gt;</th><th scope=col>&lt;chr&gt;</th><th scope=col>&lt;chr&gt;</th><th scope=col>&lt;dbl&gt;</th><th scope=col>&lt;chr&gt;</th><th scope=col>&lt;chr&gt;</th><th scope=col>&lt;chr&gt;</th><th scope=col>&lt;dbl&gt;</th><th scope=col>&lt;dbl&gt;</th><th scope=col>&lt;chr&gt;</th><th scope=col>&lt;chr&gt;</th><th scope=col>&lt;chr&gt;</th><th scope=col>&lt;chr&gt;</th></tr>\n",
       "</thead>\n",
       "<tbody>\n",
       "\t<tr><td>Misses</td><td>45 to 54</td><td>Married</td><td>2</td><td>Full Time </td><td>HighSchl</td><td>35 to 49.9</td><td> 5</td><td>15</td><td>Agree       </td><td>Agree          </td><td>Partly Disagree</td><td>Definitely Disagree</td></tr>\n",
       "\t<tr><td>Misses</td><td>10 to 24</td><td>Single </td><td>1</td><td>Full Time </td><td>CollGrad</td><td>Under 15  </td><td>11</td><td>29</td><td>Partly Agree</td><td>Agree          </td><td>Disagree       </td><td>Partly Disagree    </td></tr>\n",
       "\t<tr><td>Misses</td><td>55 to 64</td><td>Married</td><td>2</td><td>Full Time </td><td>CollGrad</td><td>35 to 49.9</td><td>10</td><td>35</td><td>Disagree    </td><td>Partly Disagree</td><td>Disagree       </td><td>Disagree           </td></tr>\n",
       "\t<tr><td>Misses</td><td>35 to 44</td><td>Married</td><td>2</td><td>Unemployed</td><td>BusNurTe</td><td>50 to 74.9</td><td>10</td><td>45</td><td>Partly Agree</td><td>Defintely Agree</td><td>Disagree       </td><td>Definitely Disagree</td></tr>\n",
       "\t<tr><td>Misses</td><td>55 to 64</td><td>Married</td><td>1</td><td>Unemployed</td><td>BusNurTe</td><td>25 to 34.9</td><td> 5</td><td>12</td><td>Disagree    </td><td>Agree          </td><td>Agree          </td><td>Definitely Disagree</td></tr>\n",
       "\t<tr><td>Junior</td><td>25 to 34</td><td>Married</td><td>2</td><td>Full Time </td><td>GradDeg </td><td>50 to 74.9</td><td> 4</td><td>10</td><td>Agree       </td><td>Agree          </td><td>Partly Disagree</td><td>Agree              </td></tr>\n",
       "</tbody>\n",
       "</table>\n"
      ],
      "text/latex": [
       "A tibble: 6 × 13\n",
       "\\begin{tabular}{lllllllllllll}\n",
       " Size & Age & Marital & Earners & Employ & Educ & Income & JeanShop & PayJean & Fashion & Cost & Interest & Spend\\\\\n",
       " <chr> & <chr> & <chr> & <dbl> & <chr> & <chr> & <chr> & <dbl> & <dbl> & <chr> & <chr> & <chr> & <chr>\\\\\n",
       "\\hline\n",
       "\t Misses & 45 to 54 & Married & 2 & Full Time  & HighSchl & 35 to 49.9 &  5 & 15 & Agree        & Agree           & Partly Disagree & Definitely Disagree\\\\\n",
       "\t Misses & 10 to 24 & Single  & 1 & Full Time  & CollGrad & Under 15   & 11 & 29 & Partly Agree & Agree           & Disagree        & Partly Disagree    \\\\\n",
       "\t Misses & 55 to 64 & Married & 2 & Full Time  & CollGrad & 35 to 49.9 & 10 & 35 & Disagree     & Partly Disagree & Disagree        & Disagree           \\\\\n",
       "\t Misses & 35 to 44 & Married & 2 & Unemployed & BusNurTe & 50 to 74.9 & 10 & 45 & Partly Agree & Defintely Agree & Disagree        & Definitely Disagree\\\\\n",
       "\t Misses & 55 to 64 & Married & 1 & Unemployed & BusNurTe & 25 to 34.9 &  5 & 12 & Disagree     & Agree           & Agree           & Definitely Disagree\\\\\n",
       "\t Junior & 25 to 34 & Married & 2 & Full Time  & GradDeg  & 50 to 74.9 &  4 & 10 & Agree        & Agree           & Partly Disagree & Agree              \\\\\n",
       "\\end{tabular}\n"
      ],
      "text/markdown": [
       "\n",
       "A tibble: 6 × 13\n",
       "\n",
       "| Size &lt;chr&gt; | Age &lt;chr&gt; | Marital &lt;chr&gt; | Earners &lt;dbl&gt; | Employ &lt;chr&gt; | Educ &lt;chr&gt; | Income &lt;chr&gt; | JeanShop &lt;dbl&gt; | PayJean &lt;dbl&gt; | Fashion &lt;chr&gt; | Cost &lt;chr&gt; | Interest &lt;chr&gt; | Spend &lt;chr&gt; |\n",
       "|---|---|---|---|---|---|---|---|---|---|---|---|---|\n",
       "| Misses | 45 to 54 | Married | 2 | Full Time  | HighSchl | 35 to 49.9 |  5 | 15 | Agree        | Agree           | Partly Disagree | Definitely Disagree |\n",
       "| Misses | 10 to 24 | Single  | 1 | Full Time  | CollGrad | Under 15   | 11 | 29 | Partly Agree | Agree           | Disagree        | Partly Disagree     |\n",
       "| Misses | 55 to 64 | Married | 2 | Full Time  | CollGrad | 35 to 49.9 | 10 | 35 | Disagree     | Partly Disagree | Disagree        | Disagree            |\n",
       "| Misses | 35 to 44 | Married | 2 | Unemployed | BusNurTe | 50 to 74.9 | 10 | 45 | Partly Agree | Defintely Agree | Disagree        | Definitely Disagree |\n",
       "| Misses | 55 to 64 | Married | 1 | Unemployed | BusNurTe | 25 to 34.9 |  5 | 12 | Disagree     | Agree           | Agree           | Definitely Disagree |\n",
       "| Junior | 25 to 34 | Married | 2 | Full Time  | GradDeg  | 50 to 74.9 |  4 | 10 | Agree        | Agree           | Partly Disagree | Agree               |\n",
       "\n"
      ],
      "text/plain": [
       "  Size   Age      Marital Earners Employ     Educ     Income     JeanShop\n",
       "1 Misses 45 to 54 Married 2       Full Time  HighSchl 35 to 49.9  5      \n",
       "2 Misses 10 to 24 Single  1       Full Time  CollGrad Under 15   11      \n",
       "3 Misses 55 to 64 Married 2       Full Time  CollGrad 35 to 49.9 10      \n",
       "4 Misses 35 to 44 Married 2       Unemployed BusNurTe 50 to 74.9 10      \n",
       "5 Misses 55 to 64 Married 1       Unemployed BusNurTe 25 to 34.9  5      \n",
       "6 Junior 25 to 34 Married 2       Full Time  GradDeg  50 to 74.9  4      \n",
       "  PayJean Fashion      Cost            Interest        Spend              \n",
       "1 15      Agree        Agree           Partly Disagree Definitely Disagree\n",
       "2 29      Partly Agree Agree           Disagree        Partly Disagree    \n",
       "3 35      Disagree     Partly Disagree Disagree        Disagree           \n",
       "4 45      Partly Agree Defintely Agree Disagree        Definitely Disagree\n",
       "5 12      Disagree     Agree           Agree           Definitely Disagree\n",
       "6 10      Agree        Agree           Partly Disagree Agree              "
      ]
     },
     "metadata": {},
     "output_type": "display_data"
    }
   ],
   "source": [
    "# Exploring the first six rows of dataset\n",
    "head(Cleaned_jeans_data)"
   ]
  },
  {
   "cell_type": "markdown",
   "id": "eacb9835",
   "metadata": {},
   "source": [
    "#### Identify Missing Data in Original Dataset"
   ]
  },
  {
   "cell_type": "code",
   "execution_count": 12,
   "id": "88554807",
   "metadata": {},
   "outputs": [
    {
     "data": {
      "text/html": [
       "<style>\n",
       ".list-inline {list-style: none; margin:0; padding: 0}\n",
       ".list-inline>li {display: inline-block}\n",
       ".list-inline>li:not(:last-child)::after {content: \"\\00b7\"; padding: 0 .5ex}\n",
       "</style>\n",
       "<ol class=list-inline><li>394</li><li>13</li></ol>\n"
      ],
      "text/latex": [
       "\\begin{enumerate*}\n",
       "\\item 394\n",
       "\\item 13\n",
       "\\end{enumerate*}\n"
      ],
      "text/markdown": [
       "1. 394\n",
       "2. 13\n",
       "\n",
       "\n"
      ],
      "text/plain": [
       "[1] 394  13"
      ]
     },
     "metadata": {},
     "output_type": "display_data"
    },
    {
     "data": {
      "text/html": [
       "<style>\n",
       ".list-inline {list-style: none; margin:0; padding: 0}\n",
       ".list-inline>li {display: inline-block}\n",
       ".list-inline>li:not(:last-child)::after {content: \"\\00b7\"; padding: 0 .5ex}\n",
       "</style>\n",
       "<ol class=list-inline><li>389</li><li>13</li></ol>\n"
      ],
      "text/latex": [
       "\\begin{enumerate*}\n",
       "\\item 389\n",
       "\\item 13\n",
       "\\end{enumerate*}\n"
      ],
      "text/markdown": [
       "1. 389\n",
       "2. 13\n",
       "\n",
       "\n"
      ],
      "text/plain": [
       "[1] 389  13"
      ]
     },
     "metadata": {},
     "output_type": "display_data"
    }
   ],
   "source": [
    "# Removing na values in the dataset, and checking the new dimension of the dataset\n",
    "dim(Cleaned_jeans_data)\n",
    "Cleaned_jeans_data = na.omit(Cleaned_jeans_data) # Remove missing values in Original Dataset.\n",
    "dim(Cleaned_jeans_data) # Check the dimension after removing null values"
   ]
  },
  {
   "cell_type": "markdown",
   "id": "be65297c",
   "metadata": {},
   "source": [
    "#### Re-check for Missing Data in Cleaned Dataset"
   ]
  },
  {
   "cell_type": "code",
   "execution_count": 13,
   "id": "05397b08",
   "metadata": {},
   "outputs": [
    {
     "data": {
      "text/html": [
       "0"
      ],
      "text/latex": [
       "0"
      ],
      "text/markdown": [
       "0"
      ],
      "text/plain": [
       "[1] 0"
      ]
     },
     "metadata": {},
     "output_type": "display_data"
    },
    {
     "data": {
      "text/html": [],
      "text/latex": [],
      "text/markdown": [],
      "text/plain": [
       "integer(0)"
      ]
     },
     "metadata": {},
     "output_type": "display_data"
    }
   ],
   "source": [
    "sum(is.na(Cleaned_jeans_data)) # Search columns. Return number of rows with missing values\n",
    "apply(is.na(Cleaned_jeans_data), 2, which) # Find rows where the missing values are."
   ]
  },
  {
   "cell_type": "markdown",
   "id": "1a225ae7",
   "metadata": {},
   "source": [
    "#### Check for Duplicate Records? - Not worthwhile for these Dataset of Categorical Variables with no Discrete Variables.\n",
    "         - However, my 'hypothesis' is that Duplicates do not mean errors in data."
   ]
  },
  {
   "cell_type": "code",
   "execution_count": 14,
   "id": "3e6367b7",
   "metadata": {},
   "outputs": [
    {
     "data": {
      "text/html": [
       "1"
      ],
      "text/latex": [
       "1"
      ],
      "text/markdown": [
       "1"
      ],
      "text/plain": [
       "[1] 1"
      ]
     },
     "metadata": {},
     "output_type": "display_data"
    },
    {
     "data": {
      "text/html": [
       "296"
      ],
      "text/latex": [
       "296"
      ],
      "text/markdown": [
       "296"
      ],
      "text/plain": [
       "[1] 296"
      ]
     },
     "metadata": {},
     "output_type": "display_data"
    }
   ],
   "source": [
    "sum(duplicated(jeans_data)) # Check for Duplicated data entries.\n",
    "which(duplicated(jeans_data))"
   ]
  },
  {
   "cell_type": "code",
   "execution_count": 15,
   "id": "518d381d",
   "metadata": {},
   "outputs": [
    {
     "data": {
      "text/plain": [
       "     Size               Age              Marital             Earners     \n",
       " Length:389         Length:389         Length:389         Min.   :1.000  \n",
       " Class :character   Class :character   Class :character   1st Qu.:1.000  \n",
       " Mode  :character   Mode  :character   Mode  :character   Median :1.000  \n",
       "                                                          Mean   :1.409  \n",
       "                                                          3rd Qu.:2.000  \n",
       "                                                          Max.   :2.000  \n",
       "    Employ              Educ              Income             JeanShop     \n",
       " Length:389         Length:389         Length:389         Min.   : 1.000  \n",
       " Class :character   Class :character   Class :character   1st Qu.: 4.000  \n",
       " Mode  :character   Mode  :character   Mode  :character   Median : 6.000  \n",
       "                                                          Mean   : 6.301  \n",
       "                                                          3rd Qu.:10.000  \n",
       "                                                          Max.   :11.000  \n",
       "    PayJean         Fashion              Cost             Interest        \n",
       " Min.   :  7.00   Length:389         Length:389         Length:389        \n",
       " 1st Qu.: 18.00   Class :character   Class :character   Class :character  \n",
       " Median : 25.00   Mode  :character   Mode  :character   Mode  :character  \n",
       " Mean   : 27.69                                                           \n",
       " 3rd Qu.: 35.00                                                           \n",
       " Max.   :100.00                                                           \n",
       "    Spend          \n",
       " Length:389        \n",
       " Class :character  \n",
       " Mode  :character  \n",
       "                   \n",
       "                   \n",
       "                   "
      ]
     },
     "metadata": {},
     "output_type": "display_data"
    }
   ],
   "source": [
    "# Checking the statistical summary of now cleaned dataset \n",
    "summary(Cleaned_jeans_data)"
   ]
  },
  {
   "cell_type": "markdown",
   "id": "abebc752",
   "metadata": {},
   "source": [
    "### Specify categorical variables in Cleaned Dataset - Reflect Market Research Data Descriptions"
   ]
  },
  {
   "cell_type": "code",
   "execution_count": 16,
   "id": "c48349e5",
   "metadata": {},
   "outputs": [],
   "source": [
    "Cleaned_jeans_data$Size <- as.factor(Cleaned_jeans_data$Size) # Size groupings.\n",
    "Cleaned_jeans_data$Age <- as.factor(Cleaned_jeans_data$Age) # Age groupings.\n",
    "Cleaned_jeans_data$Marital <- as.factor(Cleaned_jeans_data$Marital) # Marital Status groupings\n",
    "Cleaned_jeans_data$Employ <- as.factor(Cleaned_jeans_data$Employ) # Employment Status groupings\n",
    "Cleaned_jeans_data$Educ <- as.factor(Cleaned_jeans_data$Educ) # Education Level groupings\n",
    "Cleaned_jeans_data$Income <- as.factor(Cleaned_jeans_data$Income) # Income Level groupings.\n",
    "Cleaned_jeans_data$Fashion <- as.factor(Cleaned_jeans_data$Fashion) # Fashion Consciousness groupings\n",
    "Cleaned_jeans_data$Cost <- as.factor(Cleaned_jeans_data$Cost) # Cost Consciouness groupings\n",
    "Cleaned_jeans_data$Interest <- as.factor(Cleaned_jeans_data$Interest) # Wardrobe Interest groupings\n",
    "Cleaned_jeans_data$Spend <- as.factor(Cleaned_jeans_data$Spend) # Attitude to Spending groupings\n",
    "Cleaned_jeans_data$JeanShop <- as.factor(Cleaned_jeans_data$JeanShop) # Jean Shop labels.\n",
    "Cleaned_jeans_data$Earners <- as.factor(Cleaned_jeans_data$Earners) # Number of Earners groupings "
   ]
  },
  {
   "cell_type": "markdown",
   "id": "ea0acb1d",
   "metadata": {},
   "source": [
    "## Visualise Relationships between ALL the Variables using Pairplots"
   ]
  },
  {
   "cell_type": "code",
   "execution_count": 17,
   "id": "0c441835",
   "metadata": {},
   "outputs": [
    {
     "data": {
      "image/png": "[encoded data removed]",
      "text/plain": [
       "plot without title"
      ]
     },
     "metadata": {
      "image/png": {
       "height": 420,
       "width": 420
      }
     },
     "output_type": "display_data"
    }
   ],
   "source": [
    "pairs(Cleaned_jeans_data)"
   ]
  },
  {
   "cell_type": "markdown",
   "id": "0fa046cb",
   "metadata": {},
   "source": [
    "### Run Chi-square (χ2) statistic test on the Dependent Variable on the Original Dataset"
   ]
  },
  {
   "cell_type": "code",
   "execution_count": 18,
   "id": "014411a2",
   "metadata": {},
   "outputs": [
    {
     "data": {
      "text/plain": [
       "\n",
       "\tChi-squared test for given probabilities\n",
       "\n",
       "data:  Cleaned_jeans_data$PayJean\n",
       "X-squared = 2623.6, df = 388, p-value < 2.2e-16\n"
      ]
     },
     "metadata": {},
     "output_type": "display_data"
    }
   ],
   "source": [
    "chisquare <- chisq.test(Cleaned_jeans_data$PayJean)\n",
    "chisquare"
   ]
  },
  {
   "cell_type": "code",
   "execution_count": 19,
   "id": "61823a24",
   "metadata": {},
   "outputs": [
    {
     "data": {
      "text/html": [
       "<style>\n",
       ".list-inline {list-style: none; margin:0; padding: 0}\n",
       ".list-inline>li {display: inline-block}\n",
       ".list-inline>li:not(:last-child)::after {content: \"\\00b7\"; padding: 0 .5ex}\n",
       "</style>\n",
       "<ol class=list-inline><li>15</li><li>29</li><li>35</li><li>45</li><li>12</li><li>10</li><li>56</li><li>20</li><li>42</li><li>25</li><li>25</li><li>30</li><li>65</li><li>15</li><li>20</li><li>30</li><li>15</li><li>20</li><li>10</li><li>10</li><li>35</li><li>11</li><li>25</li><li>36</li><li>26</li><li>25</li><li>55</li><li>35</li><li>12</li><li>36</li><li>24</li><li>30</li><li>15</li><li>20</li><li>18</li><li>21</li><li>35</li><li>22</li><li>20</li><li>20</li><li>40</li><li>17</li><li>38</li><li>35</li><li>20</li><li>23</li><li>11</li><li>20</li><li>45</li><li>50</li><li>15</li><li>13</li><li>20</li><li>15</li><li>50</li><li>30</li><li>30</li><li>43</li><li>23</li><li>30</li><li>18</li><li>14</li><li>30</li><li>20</li><li>26</li><li>30</li><li>24</li><li>28</li><li>20</li><li>20</li><li>14</li><li>20</li><li>20</li><li>10</li><li>12</li><li>20</li><li>25</li><li>35</li><li>45</li><li>30</li><li>30</li><li>30</li><li>12</li><li>15</li><li>30</li><li>10</li><li>17</li><li>50</li><li>20</li><li>26</li><li>21</li><li>50</li><li>20</li><li>20</li><li>20</li><li>23</li><li>25</li><li>26</li><li>20</li><li>30</li><li>60</li><li>14</li><li>44</li><li>18</li><li>30</li><li>32</li><li>14</li><li>20</li><li>22</li><li>25</li><li>15</li><li>15</li><li>30</li><li>20</li><li>27</li><li>28</li><li>20</li><li>10</li><li>35</li><li>30</li><li>25</li><li>9</li><li>45</li><li>22</li><li>50</li><li>25</li><li>15</li><li>50</li><li>19</li><li>30</li><li>30</li><li>35</li><li>19</li><li>20</li><li>30</li><li>22</li><li>30</li><li>40</li><li>30</li><li>15</li><li>21</li><li>25</li><li>18</li><li>55</li><li>12</li><li>40</li><li>50</li><li>10</li><li>20</li><li>50</li><li>32</li><li>12</li><li>12</li><li>35</li><li>34</li><li>40</li><li>10</li><li>35</li><li>30</li><li>28</li><li>15</li><li>50</li><li>10</li><li>16</li><li>40</li><li>25</li><li>40</li><li>35</li><li>35</li><li>40</li><li>10</li><li>25</li><li>30</li><li>35</li><li>8</li><li>28</li><li>16</li><li>18</li><li>30</li><li>13</li><li>45</li><li>35</li><li>38</li><li>30</li><li>50</li><li>22</li><li>20</li><li>10</li><li>20</li><li>15</li><li>15</li><li>19</li><li>7</li><li>10</li><li>28</li><li>45</li><li>30</li><li>13</li><li>19</li><li>30</li><li>25</li><li>11</li><li>25</li><li>16</li><li>26</li><li>40</li><li>16</li><li>20</li><li>20</li><li>22</li><li>30</li><li>13</li><li>95</li><li>29</li><li>35</li><li>25</li><li>40</li><li>45</li><li>40</li><li>18</li><li>20</li><li>25</li><li>25</li><li>30</li><li>18</li><li>100</li><li>25</li><li>15</li><li>20</li><li>30</li><li>30</li><li>14</li><li>30</li><li>25</li><li>18</li><li>28</li><li>30</li><li>28</li><li>45</li><li>15</li><li>38</li><li>20</li><li>12</li><li>35</li><li>20</li><li>50</li><li>30</li><li>20</li><li>25</li><li>22</li><li>38</li><li>34</li><li>50</li><li>13</li><li>30</li><li>29</li><li>20</li><li>45</li><li>35</li><li>45</li><li>100</li><li>38</li><li>20</li><li>25</li><li>44</li><li>42</li><li>28</li><li>25</li><li>10</li><li>12</li><li>65</li><li>40</li><li>25</li><li>60</li><li>21</li><li>20</li><li>40</li><li>45</li><li>19</li><li>53</li><li>50</li><li>40</li><li>30</li><li>19</li><li>12</li><li>25</li><li>15</li><li>40</li><li>18</li><li>70</li><li>45</li><li>12</li><li>10</li><li>56</li><li>20</li><li>42</li><li>25</li><li>30</li><li>43</li><li>55</li><li>25</li><li>38</li><li>45</li><li>40</li><li>20</li><li>22</li><li>26</li><li>25</li><li>30</li><li>40</li><li>10</li><li>30</li><li>9</li><li>30</li><li>15</li><li>18</li><li>25</li><li>20</li><li>25</li><li>40</li><li>12</li><li>25</li><li>12</li><li>15</li><li>24</li><li>22</li><li>40</li><li>30</li><li>25</li><li>32</li><li>18</li><li>15</li><li>44</li><li>10</li><li>36</li><li>20</li><li>13</li><li>25</li><li>16</li><li>35</li><li>35</li><li>30</li><li>15</li><li>58</li><li>38</li><li>16</li><li>30</li><li>35</li><li>15</li><li>30</li><li>45</li><li>16</li><li>30</li><li>20</li><li>12</li><li>40</li><li>50</li><li>12</li><li>25</li><li>20</li><li>15</li><li>18</li><li>40</li><li>38</li><li>45</li><li>30</li><li>30</li><li>50</li><li>35</li><li>40</li><li>12</li><li>15</li><li>20</li><li>20</li><li>22</li><li>20</li><li>40</li><li>13</li><li>15</li><li>8</li><li>33</li><li>38</li><li>28</li><li>9</li><li>20</li><li>50</li><li>45</li><li>30</li><li>25</li></ol>\n"
      ],
      "text/latex": [
       "\\begin{enumerate*}\n",
       "\\item 15\n",
       "\\item 29\n",
       "\\item 35\n",
       "\\item 45\n",
       "\\item 12\n",
       "\\item 10\n",
       "\\item 56\n",
       "\\item 20\n",
       "\\item 42\n",
       "\\item 25\n",
       "\\item 25\n",
       "\\item 30\n",
       "\\item 65\n",
       "\\item 15\n",
       "\\item 20\n",
       "\\item 30\n",
       "\\item 15\n",
       "\\item 20\n",
       "\\item 10\n",
       "\\item 10\n",
       "\\item 35\n",
       "\\item 11\n",
       "\\item 25\n",
       "\\item 36\n",
       "\\item 26\n",
       "\\item 25\n",
       "\\item 55\n",
       "\\item 35\n",
       "\\item 12\n",
       "\\item 36\n",
       "\\item 24\n",
       "\\item 30\n",
       "\\item 15\n",
       "\\item 20\n",
       "\\item 18\n",
       "\\item 21\n",
       "\\item 35\n",
       "\\item 22\n",
       "\\item 20\n",
       "\\item 20\n",
       "\\item 40\n",
       "\\item 17\n",
       "\\item 38\n",
       "\\item 35\n",
       "\\item 20\n",
       "\\item 23\n",
       "\\item 11\n",
       "\\item 20\n",
       "\\item 45\n",
       "\\item 50\n",
       "\\item 15\n",
       "\\item 13\n",
       "\\item 20\n",
       "\\item 15\n",
       "\\item 50\n",
       "\\item 30\n",
       "\\item 30\n",
       "\\item 43\n",
       "\\item 23\n",
       "\\item 30\n",
       "\\item 18\n",
       "\\item 14\n",
       "\\item 30\n",
       "\\item 20\n",
       "\\item 26\n",
       "\\item 30\n",
       "\\item 24\n",
       "\\item 28\n",
       "\\item 20\n",
       "\\item 20\n",
       "\\item 14\n",
       "\\item 20\n",
       "\\item 20\n",
       "\\item 10\n",
       "\\item 12\n",
       "\\item 20\n",
       "\\item 25\n",
       "\\item 35\n",
       "\\item 45\n",
       "\\item 30\n",
       "\\item 30\n",
       "\\item 30\n",
       "\\item 12\n",
       "\\item 15\n",
       "\\item 30\n",
       "\\item 10\n",
       "\\item 17\n",
       "\\item 50\n",
       "\\item 20\n",
       "\\item 26\n",
       "\\item 21\n",
       "\\item 50\n",
       "\\item 20\n",
       "\\item 20\n",
       "\\item 20\n",
       "\\item 23\n",
       "\\item 25\n",
       "\\item 26\n",
       "\\item 20\n",
       "\\item 30\n",
       "\\item 60\n",
       "\\item 14\n",
       "\\item 44\n",
       "\\item 18\n",
       "\\item 30\n",
       "\\item 32\n",
       "\\item 14\n",
       "\\item 20\n",
       "\\item 22\n",
       "\\item 25\n",
       "\\item 15\n",
       "\\item 15\n",
       "\\item 30\n",
       "\\item 20\n",
       "\\item 27\n",
       "\\item 28\n",
       "\\item 20\n",
       "\\item 10\n",
       "\\item 35\n",
       "\\item 30\n",
       "\\item 25\n",
       "\\item 9\n",
       "\\item 45\n",
       "\\item 22\n",
       "\\item 50\n",
       "\\item 25\n",
       "\\item 15\n",
       "\\item 50\n",
       "\\item 19\n",
       "\\item 30\n",
       "\\item 30\n",
       "\\item 35\n",
       "\\item 19\n",
       "\\item 20\n",
       "\\item 30\n",
       "\\item 22\n",
       "\\item 30\n",
       "\\item 40\n",
       "\\item 30\n",
       "\\item 15\n",
       "\\item 21\n",
       "\\item 25\n",
       "\\item 18\n",
       "\\item 55\n",
       "\\item 12\n",
       "\\item 40\n",
       "\\item 50\n",
       "\\item 10\n",
       "\\item 20\n",
       "\\item 50\n",
       "\\item 32\n",
       "\\item 12\n",
       "\\item 12\n",
       "\\item 35\n",
       "\\item 34\n",
       "\\item 40\n",
       "\\item 10\n",
       "\\item 35\n",
       "\\item 30\n",
       "\\item 28\n",
       "\\item 15\n",
       "\\item 50\n",
       "\\item 10\n",
       "\\item 16\n",
       "\\item 40\n",
       "\\item 25\n",
       "\\item 40\n",
       "\\item 35\n",
       "\\item 35\n",
       "\\item 40\n",
       "\\item 10\n",
       "\\item 25\n",
       "\\item 30\n",
       "\\item 35\n",
       "\\item 8\n",
       "\\item 28\n",
       "\\item 16\n",
       "\\item 18\n",
       "\\item 30\n",
       "\\item 13\n",
       "\\item 45\n",
       "\\item 35\n",
       "\\item 38\n",
       "\\item 30\n",
       "\\item 50\n",
       "\\item 22\n",
       "\\item 20\n",
       "\\item 10\n",
       "\\item 20\n",
       "\\item 15\n",
       "\\item 15\n",
       "\\item 19\n",
       "\\item 7\n",
       "\\item 10\n",
       "\\item 28\n",
       "\\item 45\n",
       "\\item 30\n",
       "\\item 13\n",
       "\\item 19\n",
       "\\item 30\n",
       "\\item 25\n",
       "\\item 11\n",
       "\\item 25\n",
       "\\item 16\n",
       "\\item 26\n",
       "\\item 40\n",
       "\\item 16\n",
       "\\item 20\n",
       "\\item 20\n",
       "\\item 22\n",
       "\\item 30\n",
       "\\item 13\n",
       "\\item 95\n",
       "\\item 29\n",
       "\\item 35\n",
       "\\item 25\n",
       "\\item 40\n",
       "\\item 45\n",
       "\\item 40\n",
       "\\item 18\n",
       "\\item 20\n",
       "\\item 25\n",
       "\\item 25\n",
       "\\item 30\n",
       "\\item 18\n",
       "\\item 100\n",
       "\\item 25\n",
       "\\item 15\n",
       "\\item 20\n",
       "\\item 30\n",
       "\\item 30\n",
       "\\item 14\n",
       "\\item 30\n",
       "\\item 25\n",
       "\\item 18\n",
       "\\item 28\n",
       "\\item 30\n",
       "\\item 28\n",
       "\\item 45\n",
       "\\item 15\n",
       "\\item 38\n",
       "\\item 20\n",
       "\\item 12\n",
       "\\item 35\n",
       "\\item 20\n",
       "\\item 50\n",
       "\\item 30\n",
       "\\item 20\n",
       "\\item 25\n",
       "\\item 22\n",
       "\\item 38\n",
       "\\item 34\n",
       "\\item 50\n",
       "\\item 13\n",
       "\\item 30\n",
       "\\item 29\n",
       "\\item 20\n",
       "\\item 45\n",
       "\\item 35\n",
       "\\item 45\n",
       "\\item 100\n",
       "\\item 38\n",
       "\\item 20\n",
       "\\item 25\n",
       "\\item 44\n",
       "\\item 42\n",
       "\\item 28\n",
       "\\item 25\n",
       "\\item 10\n",
       "\\item 12\n",
       "\\item 65\n",
       "\\item 40\n",
       "\\item 25\n",
       "\\item 60\n",
       "\\item 21\n",
       "\\item 20\n",
       "\\item 40\n",
       "\\item 45\n",
       "\\item 19\n",
       "\\item 53\n",
       "\\item 50\n",
       "\\item 40\n",
       "\\item 30\n",
       "\\item 19\n",
       "\\item 12\n",
       "\\item 25\n",
       "\\item 15\n",
       "\\item 40\n",
       "\\item 18\n",
       "\\item 70\n",
       "\\item 45\n",
       "\\item 12\n",
       "\\item 10\n",
       "\\item 56\n",
       "\\item 20\n",
       "\\item 42\n",
       "\\item 25\n",
       "\\item 30\n",
       "\\item 43\n",
       "\\item 55\n",
       "\\item 25\n",
       "\\item 38\n",
       "\\item 45\n",
       "\\item 40\n",
       "\\item 20\n",
       "\\item 22\n",
       "\\item 26\n",
       "\\item 25\n",
       "\\item 30\n",
       "\\item 40\n",
       "\\item 10\n",
       "\\item 30\n",
       "\\item 9\n",
       "\\item 30\n",
       "\\item 15\n",
       "\\item 18\n",
       "\\item 25\n",
       "\\item 20\n",
       "\\item 25\n",
       "\\item 40\n",
       "\\item 12\n",
       "\\item 25\n",
       "\\item 12\n",
       "\\item 15\n",
       "\\item 24\n",
       "\\item 22\n",
       "\\item 40\n",
       "\\item 30\n",
       "\\item 25\n",
       "\\item 32\n",
       "\\item 18\n",
       "\\item 15\n",
       "\\item 44\n",
       "\\item 10\n",
       "\\item 36\n",
       "\\item 20\n",
       "\\item 13\n",
       "\\item 25\n",
       "\\item 16\n",
       "\\item 35\n",
       "\\item 35\n",
       "\\item 30\n",
       "\\item 15\n",
       "\\item 58\n",
       "\\item 38\n",
       "\\item 16\n",
       "\\item 30\n",
       "\\item 35\n",
       "\\item 15\n",
       "\\item 30\n",
       "\\item 45\n",
       "\\item 16\n",
       "\\item 30\n",
       "\\item 20\n",
       "\\item 12\n",
       "\\item 40\n",
       "\\item 50\n",
       "\\item 12\n",
       "\\item 25\n",
       "\\item 20\n",
       "\\item 15\n",
       "\\item 18\n",
       "\\item 40\n",
       "\\item 38\n",
       "\\item 45\n",
       "\\item 30\n",
       "\\item 30\n",
       "\\item 50\n",
       "\\item 35\n",
       "\\item 40\n",
       "\\item 12\n",
       "\\item 15\n",
       "\\item 20\n",
       "\\item 20\n",
       "\\item 22\n",
       "\\item 20\n",
       "\\item 40\n",
       "\\item 13\n",
       "\\item 15\n",
       "\\item 8\n",
       "\\item 33\n",
       "\\item 38\n",
       "\\item 28\n",
       "\\item 9\n",
       "\\item 20\n",
       "\\item 50\n",
       "\\item 45\n",
       "\\item 30\n",
       "\\item 25\n",
       "\\end{enumerate*}\n"
      ],
      "text/markdown": [
       "1. 15\n",
       "2. 29\n",
       "3. 35\n",
       "4. 45\n",
       "5. 12\n",
       "6. 10\n",
       "7. 56\n",
       "8. 20\n",
       "9. 42\n",
       "10. 25\n",
       "11. 25\n",
       "12. 30\n",
       "13. 65\n",
       "14. 15\n",
       "15. 20\n",
       "16. 30\n",
       "17. 15\n",
       "18. 20\n",
       "19. 10\n",
       "20. 10\n",
       "21. 35\n",
       "22. 11\n",
       "23. 25\n",
       "24. 36\n",
       "25. 26\n",
       "26. 25\n",
       "27. 55\n",
       "28. 35\n",
       "29. 12\n",
       "30. 36\n",
       "31. 24\n",
       "32. 30\n",
       "33. 15\n",
       "34. 20\n",
       "35. 18\n",
       "36. 21\n",
       "37. 35\n",
       "38. 22\n",
       "39. 20\n",
       "40. 20\n",
       "41. 40\n",
       "42. 17\n",
       "43. 38\n",
       "44. 35\n",
       "45. 20\n",
       "46. 23\n",
       "47. 11\n",
       "48. 20\n",
       "49. 45\n",
       "50. 50\n",
       "51. 15\n",
       "52. 13\n",
       "53. 20\n",
       "54. 15\n",
       "55. 50\n",
       "56. 30\n",
       "57. 30\n",
       "58. 43\n",
       "59. 23\n",
       "60. 30\n",
       "61. 18\n",
       "62. 14\n",
       "63. 30\n",
       "64. 20\n",
       "65. 26\n",
       "66. 30\n",
       "67. 24\n",
       "68. 28\n",
       "69. 20\n",
       "70. 20\n",
       "71. 14\n",
       "72. 20\n",
       "73. 20\n",
       "74. 10\n",
       "75. 12\n",
       "76. 20\n",
       "77. 25\n",
       "78. 35\n",
       "79. 45\n",
       "80. 30\n",
       "81. 30\n",
       "82. 30\n",
       "83. 12\n",
       "84. 15\n",
       "85. 30\n",
       "86. 10\n",
       "87. 17\n",
       "88. 50\n",
       "89. 20\n",
       "90. 26\n",
       "91. 21\n",
       "92. 50\n",
       "93. 20\n",
       "94. 20\n",
       "95. 20\n",
       "96. 23\n",
       "97. 25\n",
       "98. 26\n",
       "99. 20\n",
       "100. 30\n",
       "101. 60\n",
       "102. 14\n",
       "103. 44\n",
       "104. 18\n",
       "105. 30\n",
       "106. 32\n",
       "107. 14\n",
       "108. 20\n",
       "109. 22\n",
       "110. 25\n",
       "111. 15\n",
       "112. 15\n",
       "113. 30\n",
       "114. 20\n",
       "115. 27\n",
       "116. 28\n",
       "117. 20\n",
       "118. 10\n",
       "119. 35\n",
       "120. 30\n",
       "121. 25\n",
       "122. 9\n",
       "123. 45\n",
       "124. 22\n",
       "125. 50\n",
       "126. 25\n",
       "127. 15\n",
       "128. 50\n",
       "129. 19\n",
       "130. 30\n",
       "131. 30\n",
       "132. 35\n",
       "133. 19\n",
       "134. 20\n",
       "135. 30\n",
       "136. 22\n",
       "137. 30\n",
       "138. 40\n",
       "139. 30\n",
       "140. 15\n",
       "141. 21\n",
       "142. 25\n",
       "143. 18\n",
       "144. 55\n",
       "145. 12\n",
       "146. 40\n",
       "147. 50\n",
       "148. 10\n",
       "149. 20\n",
       "150. 50\n",
       "151. 32\n",
       "152. 12\n",
       "153. 12\n",
       "154. 35\n",
       "155. 34\n",
       "156. 40\n",
       "157. 10\n",
       "158. 35\n",
       "159. 30\n",
       "160. 28\n",
       "161. 15\n",
       "162. 50\n",
       "163. 10\n",
       "164. 16\n",
       "165. 40\n",
       "166. 25\n",
       "167. 40\n",
       "168. 35\n",
       "169. 35\n",
       "170. 40\n",
       "171. 10\n",
       "172. 25\n",
       "173. 30\n",
       "174. 35\n",
       "175. 8\n",
       "176. 28\n",
       "177. 16\n",
       "178. 18\n",
       "179. 30\n",
       "180. 13\n",
       "181. 45\n",
       "182. 35\n",
       "183. 38\n",
       "184. 30\n",
       "185. 50\n",
       "186. 22\n",
       "187. 20\n",
       "188. 10\n",
       "189. 20\n",
       "190. 15\n",
       "191. 15\n",
       "192. 19\n",
       "193. 7\n",
       "194. 10\n",
       "195. 28\n",
       "196. 45\n",
       "197. 30\n",
       "198. 13\n",
       "199. 19\n",
       "200. 30\n",
       "201. 25\n",
       "202. 11\n",
       "203. 25\n",
       "204. 16\n",
       "205. 26\n",
       "206. 40\n",
       "207. 16\n",
       "208. 20\n",
       "209. 20\n",
       "210. 22\n",
       "211. 30\n",
       "212. 13\n",
       "213. 95\n",
       "214. 29\n",
       "215. 35\n",
       "216. 25\n",
       "217. 40\n",
       "218. 45\n",
       "219. 40\n",
       "220. 18\n",
       "221. 20\n",
       "222. 25\n",
       "223. 25\n",
       "224. 30\n",
       "225. 18\n",
       "226. 100\n",
       "227. 25\n",
       "228. 15\n",
       "229. 20\n",
       "230. 30\n",
       "231. 30\n",
       "232. 14\n",
       "233. 30\n",
       "234. 25\n",
       "235. 18\n",
       "236. 28\n",
       "237. 30\n",
       "238. 28\n",
       "239. 45\n",
       "240. 15\n",
       "241. 38\n",
       "242. 20\n",
       "243. 12\n",
       "244. 35\n",
       "245. 20\n",
       "246. 50\n",
       "247. 30\n",
       "248. 20\n",
       "249. 25\n",
       "250. 22\n",
       "251. 38\n",
       "252. 34\n",
       "253. 50\n",
       "254. 13\n",
       "255. 30\n",
       "256. 29\n",
       "257. 20\n",
       "258. 45\n",
       "259. 35\n",
       "260. 45\n",
       "261. 100\n",
       "262. 38\n",
       "263. 20\n",
       "264. 25\n",
       "265. 44\n",
       "266. 42\n",
       "267. 28\n",
       "268. 25\n",
       "269. 10\n",
       "270. 12\n",
       "271. 65\n",
       "272. 40\n",
       "273. 25\n",
       "274. 60\n",
       "275. 21\n",
       "276. 20\n",
       "277. 40\n",
       "278. 45\n",
       "279. 19\n",
       "280. 53\n",
       "281. 50\n",
       "282. 40\n",
       "283. 30\n",
       "284. 19\n",
       "285. 12\n",
       "286. 25\n",
       "287. 15\n",
       "288. 40\n",
       "289. 18\n",
       "290. 70\n",
       "291. 45\n",
       "292. 12\n",
       "293. 10\n",
       "294. 56\n",
       "295. 20\n",
       "296. 42\n",
       "297. 25\n",
       "298. 30\n",
       "299. 43\n",
       "300. 55\n",
       "301. 25\n",
       "302. 38\n",
       "303. 45\n",
       "304. 40\n",
       "305. 20\n",
       "306. 22\n",
       "307. 26\n",
       "308. 25\n",
       "309. 30\n",
       "310. 40\n",
       "311. 10\n",
       "312. 30\n",
       "313. 9\n",
       "314. 30\n",
       "315. 15\n",
       "316. 18\n",
       "317. 25\n",
       "318. 20\n",
       "319. 25\n",
       "320. 40\n",
       "321. 12\n",
       "322. 25\n",
       "323. 12\n",
       "324. 15\n",
       "325. 24\n",
       "326. 22\n",
       "327. 40\n",
       "328. 30\n",
       "329. 25\n",
       "330. 32\n",
       "331. 18\n",
       "332. 15\n",
       "333. 44\n",
       "334. 10\n",
       "335. 36\n",
       "336. 20\n",
       "337. 13\n",
       "338. 25\n",
       "339. 16\n",
       "340. 35\n",
       "341. 35\n",
       "342. 30\n",
       "343. 15\n",
       "344. 58\n",
       "345. 38\n",
       "346. 16\n",
       "347. 30\n",
       "348. 35\n",
       "349. 15\n",
       "350. 30\n",
       "351. 45\n",
       "352. 16\n",
       "353. 30\n",
       "354. 20\n",
       "355. 12\n",
       "356. 40\n",
       "357. 50\n",
       "358. 12\n",
       "359. 25\n",
       "360. 20\n",
       "361. 15\n",
       "362. 18\n",
       "363. 40\n",
       "364. 38\n",
       "365. 45\n",
       "366. 30\n",
       "367. 30\n",
       "368. 50\n",
       "369. 35\n",
       "370. 40\n",
       "371. 12\n",
       "372. 15\n",
       "373. 20\n",
       "374. 20\n",
       "375. 22\n",
       "376. 20\n",
       "377. 40\n",
       "378. 13\n",
       "379. 15\n",
       "380. 8\n",
       "381. 33\n",
       "382. 38\n",
       "383. 28\n",
       "384. 9\n",
       "385. 20\n",
       "386. 50\n",
       "387. 45\n",
       "388. 30\n",
       "389. 25\n",
       "\n",
       "\n"
      ],
      "text/plain": [
       "  [1]  15  29  35  45  12  10  56  20  42  25  25  30  65  15  20  30  15  20\n",
       " [19]  10  10  35  11  25  36  26  25  55  35  12  36  24  30  15  20  18  21\n",
       " [37]  35  22  20  20  40  17  38  35  20  23  11  20  45  50  15  13  20  15\n",
       " [55]  50  30  30  43  23  30  18  14  30  20  26  30  24  28  20  20  14  20\n",
       " [73]  20  10  12  20  25  35  45  30  30  30  12  15  30  10  17  50  20  26\n",
       " [91]  21  50  20  20  20  23  25  26  20  30  60  14  44  18  30  32  14  20\n",
       "[109]  22  25  15  15  30  20  27  28  20  10  35  30  25   9  45  22  50  25\n",
       "[127]  15  50  19  30  30  35  19  20  30  22  30  40  30  15  21  25  18  55\n",
       "[145]  12  40  50  10  20  50  32  12  12  35  34  40  10  35  30  28  15  50\n",
       "[163]  10  16  40  25  40  35  35  40  10  25  30  35   8  28  16  18  30  13\n",
       "[181]  45  35  38  30  50  22  20  10  20  15  15  19   7  10  28  45  30  13\n",
       "[199]  19  30  25  11  25  16  26  40  16  20  20  22  30  13  95  29  35  25\n",
       "[217]  40  45  40  18  20  25  25  30  18 100  25  15  20  30  30  14  30  25\n",
       "[235]  18  28  30  28  45  15  38  20  12  35  20  50  30  20  25  22  38  34\n",
       "[253]  50  13  30  29  20  45  35  45 100  38  20  25  44  42  28  25  10  12\n",
       "[271]  65  40  25  60  21  20  40  45  19  53  50  40  30  19  12  25  15  40\n",
       "[289]  18  70  45  12  10  56  20  42  25  30  43  55  25  38  45  40  20  22\n",
       "[307]  26  25  30  40  10  30   9  30  15  18  25  20  25  40  12  25  12  15\n",
       "[325]  24  22  40  30  25  32  18  15  44  10  36  20  13  25  16  35  35  30\n",
       "[343]  15  58  38  16  30  35  15  30  45  16  30  20  12  40  50  12  25  20\n",
       "[361]  15  18  40  38  45  30  30  50  35  40  12  15  20  20  22  20  40  13\n",
       "[379]  15   8  33  38  28   9  20  50  45  30  25"
      ]
     },
     "metadata": {},
     "output_type": "display_data"
    }
   ],
   "source": [
    "chisquare$observed"
   ]
  },
  {
   "cell_type": "markdown",
   "id": "bac11d1f",
   "metadata": {},
   "source": [
    "## Initial Exploration of the Categorical Variables"
   ]
  },
  {
   "cell_type": "markdown",
   "id": "1e0986a0",
   "metadata": {},
   "source": [
    "### Visual Exploration of the Categorical Variables"
   ]
  },
  {
   "cell_type": "markdown",
   "id": "4827c474",
   "metadata": {},
   "source": [
    "##### Visualisations of Distributions for 'Size' Independent Variable"
   ]
  },
  {
   "cell_type": "code",
   "execution_count": 20,
   "id": "357a05fd",
   "metadata": {},
   "outputs": [
    {
     "data": {
      "text/html": [
       "<style>\n",
       ".dl-inline {width: auto; margin:0; padding: 0}\n",
       ".dl-inline>dt, .dl-inline>dd {float: none; width: auto; display: inline-block}\n",
       ".dl-inline>dt::after {content: \":\\0020\"; padding-right: .5ex}\n",
       ".dl-inline>dt:not(:first-of-type) {padding-left: .5ex}\n",
       "</style><dl class=dl-inline><dt>HalfLarg</dt><dd>17</dd><dt>Junior</dt><dd>84</dd><dt>Misses</dt><dd>235</dd><dt>Petite</dt><dd>53</dd></dl>\n"
      ],
      "text/latex": [
       "\\begin{description*}\n",
       "\\item[HalfLarg] 17\n",
       "\\item[Junior] 84\n",
       "\\item[Misses] 235\n",
       "\\item[Petite] 53\n",
       "\\end{description*}\n"
      ],
      "text/markdown": [
       "HalfLarg\n",
       ":   17Junior\n",
       ":   84Misses\n",
       ":   235Petite\n",
       ":   53\n",
       "\n"
      ],
      "text/plain": [
       "HalfLarg   Junior   Misses   Petite \n",
       "      17       84      235       53 "
      ]
     },
     "metadata": {},
     "output_type": "display_data"
    }
   ],
   "source": [
    "summary(Cleaned_jeans_data$Size)"
   ]
  },
  {
   "cell_type": "code",
   "execution_count": 21,
   "id": "cbe19a66",
   "metadata": {},
   "outputs": [
    {
     "data": {
      "image/png": "[encoded data removed]",
      "text/plain": [
       "Plot with title \"Pie chart for 'Size'\""
      ]
     },
     "metadata": {
      "image/png": {
       "height": 420,
       "width": 420
      }
     },
     "output_type": "display_data"
    }
   ],
   "source": [
    "SIZE <- c(17, 84, 235, 53)\n",
    "cols=rainbow(length(SIZE)) # Set up colours for printing.\n",
    "percentlabels<- round(100*SIZE/sum(SIZE), 1) # Calculate percentage for category\n",
    "pielabels<- paste(percentlabels, \"%\", sep=\"\") # Add a ‘%’ sign to each percentag\n",
    "pie(SIZE, main=\"Pie chart for 'Size'\", col=cols, labels=pielabels, cex=0.8) # Pl\n",
    "legend(\"topright\", c(\"HalfLarg\", \"Junior\", \"Misses\", \"Petite\"), cex=0.8, fill=cols,  \n",
    "       title=\"Size\", text.font=4, bg='lightblue')\n",
    "\n",
    "# dev.copy(png,'output/Size_Cleaned_Pie-Chart.png')\n",
    "# dev.off()"
   ]
  },
  {
   "cell_type": "code",
   "execution_count": 22,
   "id": "ec618f34",
   "metadata": {},
   "outputs": [
    {
     "data": {
      "image/png": "[encoded data removed]",
      "text/plain": [
       "Plot with title \"Bar Chart for Size\""
      ]
     },
     "metadata": {
      "image/png": {
       "height": 420,
       "width": 420
      }
     },
     "output_type": "display_data"
    }
   ],
   "source": [
    "# Plotting the bar chart for the size\n",
    "size_bar_chart <- plot(Cleaned_jeans_data$Size, main = \"Bar Chart for Size\",ylab = \"Frequency\", \n",
    "                     xlab = \"Size\", col = \"blue\", border = \"black\")\n",
    "#dev.copy(png,'output/Size_Bar_Graph.png')\n",
    "#dev.off()"
   ]
  },
  {
   "cell_type": "markdown",
   "id": "07164ef6",
   "metadata": {},
   "source": [
    "##### Visualisations of Distributions for 'Age' Independent Variable"
   ]
  },
  {
   "cell_type": "code",
   "execution_count": 23,
   "id": "b6875e10",
   "metadata": {},
   "outputs": [
    {
     "data": {
      "text/html": [
       "<style>\n",
       ".dl-inline {width: auto; margin:0; padding: 0}\n",
       ".dl-inline>dt, .dl-inline>dd {float: none; width: auto; display: inline-block}\n",
       ".dl-inline>dt::after {content: \":\\0020\"; padding-right: .5ex}\n",
       ".dl-inline>dt:not(:first-of-type) {padding-left: .5ex}\n",
       "</style><dl class=dl-inline><dt>10 to 24</dt><dd>53</dd><dt>25 to 34</dt><dd>127</dd><dt>35 to 44</dt><dd>109</dd><dt>45 to 54</dt><dd>54</dd><dt>55 to 64</dt><dd>33</dd><dt>65 Plus</dt><dd>13</dd></dl>\n"
      ],
      "text/latex": [
       "\\begin{description*}\n",
       "\\item[10 to 24] 53\n",
       "\\item[25 to 34] 127\n",
       "\\item[35 to 44] 109\n",
       "\\item[45 to 54] 54\n",
       "\\item[55 to 64] 33\n",
       "\\item[65 Plus] 13\n",
       "\\end{description*}\n"
      ],
      "text/markdown": [
       "10 to 24\n",
       ":   5325 to 34\n",
       ":   12735 to 44\n",
       ":   10945 to 54\n",
       ":   5455 to 64\n",
       ":   3365 Plus\n",
       ":   13\n",
       "\n"
      ],
      "text/plain": [
       "10 to 24 25 to 34 35 to 44 45 to 54 55 to 64  65 Plus \n",
       "      53      127      109       54       33       13 "
      ]
     },
     "metadata": {},
     "output_type": "display_data"
    }
   ],
   "source": [
    "summary(Cleaned_jeans_data$Age)"
   ]
  },
  {
   "cell_type": "code",
   "execution_count": 24,
   "id": "9f0c75f5",
   "metadata": {},
   "outputs": [
    {
     "data": {
      "image/png": "[encoded data removed]",
      "text/plain": [
       "Plot with title \"Pie chart for 'Age'\""
      ]
     },
     "metadata": {
      "image/png": {
       "height": 420,
       "width": 420
      }
     },
     "output_type": "display_data"
    }
   ],
   "source": [
    "AGE <- c(53, 127, 109, 54, 33, 13)\n",
    "cols=rainbow(length(AGE)) # Set up colours for printing.\n",
    "percentlabels<- round(100*AGE/sum(AGE), 1) # Calculate percentage for category\n",
    "pielabels<- paste(percentlabels, \"%\", sep=\"\") # Add a ‘%’ sign to each percentag\n",
    "pie(AGE, main=\"Pie chart for 'Age'\", col=cols, labels=pielabels, cex=0.8) # Pl\n",
    "legend(\"topright\", c(\"10 to 24\",\"25 to 34\",\"35 to 44\",\"45 to 54\",\"55 to 64\",\"65 Plus\"), cex=0.8, fill=cols,  \n",
    "       title=\"Age\", text.font=4, bg='lightblue')\n",
    "\n",
    "# dev.copy(png,'output/Size_Cleaned_Pie-Chart.png')\n",
    "# dev.off()"
   ]
  },
  {
   "cell_type": "code",
   "execution_count": 25,
   "id": "eb588cc7",
   "metadata": {},
   "outputs": [
    {
     "data": {
      "image/png": "[encoded data removed]",
      "text/plain": [
       "Plot with title \"Bar Chart for Age\""
      ]
     },
     "metadata": {
      "image/png": {
       "height": 420,
       "width": 420
      }
     },
     "output_type": "display_data"
    }
   ],
   "source": [
    "Age_bar_chart <- plot(Cleaned_jeans_data$Age, main = \"Bar Chart for Age\",ylab = \"Frequency\", xlab = \"Age\", \n",
    "                    col = \"green\", border = \"black\")\n",
    "# dev.copy(png,'output/Age_Bar_Graph.png')\n",
    "# dev.off()"
   ]
  },
  {
   "cell_type": "markdown",
   "id": "8afe1086",
   "metadata": {},
   "source": [
    "##### Visualisations of Distributions for 'Marital' Independent Variable"
   ]
  },
  {
   "cell_type": "code",
   "execution_count": 26,
   "id": "77cd1d4a",
   "metadata": {},
   "outputs": [
    {
     "data": {
      "text/html": [
       "<style>\n",
       ".dl-inline {width: auto; margin:0; padding: 0}\n",
       ".dl-inline>dt, .dl-inline>dd {float: none; width: auto; display: inline-block}\n",
       ".dl-inline>dt::after {content: \":\\0020\"; padding-right: .5ex}\n",
       ".dl-inline>dt:not(:first-of-type) {padding-left: .5ex}\n",
       "</style><dl class=dl-inline><dt>Cohabiting</dt><dd>9</dd><dt>Divorced or Separated</dt><dd>25</dd><dt>Married</dt><dd>266</dd><dt>Single</dt><dd>77</dd><dt>Widowed</dt><dd>12</dd></dl>\n"
      ],
      "text/latex": [
       "\\begin{description*}\n",
       "\\item[Cohabiting] 9\n",
       "\\item[Divorced or Separated] 25\n",
       "\\item[Married] 266\n",
       "\\item[Single] 77\n",
       "\\item[Widowed] 12\n",
       "\\end{description*}\n"
      ],
      "text/markdown": [
       "Cohabiting\n",
       ":   9Divorced or Separated\n",
       ":   25Married\n",
       ":   266Single\n",
       ":   77Widowed\n",
       ":   12\n",
       "\n"
      ],
      "text/plain": [
       "           Cohabiting Divorced or Separated               Married \n",
       "                    9                    25                   266 \n",
       "               Single               Widowed \n",
       "                   77                    12 "
      ]
     },
     "metadata": {},
     "output_type": "display_data"
    }
   ],
   "source": [
    "summary(Cleaned_jeans_data$Marital)"
   ]
  },
  {
   "cell_type": "code",
   "execution_count": 27,
   "id": "d2cebd09",
   "metadata": {},
   "outputs": [
    {
     "data": {
      "image/png": "[encoded data removed]",
      "text/plain": [
       "Plot with title \"Pie chart for 'Marital'\""
      ]
     },
     "metadata": {
      "image/png": {
       "height": 420,
       "width": 420
      }
     },
     "output_type": "display_data"
    }
   ],
   "source": [
    "MARITAL <- c(9, 25, 266, 77, 12)\n",
    "cols=rainbow(length(MARITAL)) # Set up colours for printing.\n",
    "percentlabels<- round(100*MARITAL/sum(MARITAL), 1) # Calculate percentage for category\n",
    "pielabels<- paste(percentlabels, \"%\", sep=\"\") # Add a ‘%’ sign to each percentag\n",
    "pie(MARITAL, main=\"Pie chart for 'Marital'\", col=cols, labels=pielabels, cex=0.8) # Pl\n",
    "legend(\"topright\", c(\"Cohabiting\", \"Divorced or Separated\",\"Married\", \"Single\", \"Widowed\"), cex=0.8, fill=cols,  \n",
    "       title=\"Marital\", text.font=4, bg='lightblue')\n",
    "\n",
    "# dev.copy(png,'output/Size_Cleaned_Pie-Chart.png')\n",
    "# dev.off()"
   ]
  },
  {
   "cell_type": "code",
   "execution_count": 28,
   "id": "eded6444",
   "metadata": {},
   "outputs": [
    {
     "data": {
      "image/png": "[encoded data removed]",
      "text/plain": [
       "Plot with title \"Bar Chart for Marital\""
      ]
     },
     "metadata": {
      "image/png": {
       "height": 420,
       "width": 420
      }
     },
     "output_type": "display_data"
    }
   ],
   "source": [
    "Marital_bar_chart <- plot(Cleaned_jeans_data$Marital, main = \"Bar Chart for Marital\", ylab = \"Frequency\", \n",
    "                          xlab = \"Marital\", col = \"turquoise\", border = \"black\")\n",
    "# dev.copy(png,'output/Marital_Vanilla_Bar_Graph.png')\n",
    "# dev.off()"
   ]
  },
  {
   "cell_type": "markdown",
   "id": "1dc48dc8",
   "metadata": {},
   "source": [
    "##### Visualisations of Distributions for 'Employ' Independent Variable"
   ]
  },
  {
   "cell_type": "code",
   "execution_count": 29,
   "id": "fc581f37",
   "metadata": {},
   "outputs": [
    {
     "data": {
      "text/html": [
       "<style>\n",
       ".dl-inline {width: auto; margin:0; padding: 0}\n",
       ".dl-inline>dt, .dl-inline>dd {float: none; width: auto; display: inline-block}\n",
       ".dl-inline>dt::after {content: \":\\0020\"; padding-right: .5ex}\n",
       ".dl-inline>dt:not(:first-of-type) {padding-left: .5ex}\n",
       "</style><dl class=dl-inline><dt>Full Time</dt><dd>193</dd><dt>Part Time</dt><dd>79</dd><dt>Unemployed</dt><dd>117</dd></dl>\n"
      ],
      "text/latex": [
       "\\begin{description*}\n",
       "\\item[Full Time] 193\n",
       "\\item[Part Time] 79\n",
       "\\item[Unemployed] 117\n",
       "\\end{description*}\n"
      ],
      "text/markdown": [
       "Full Time\n",
       ":   193Part Time\n",
       ":   79Unemployed\n",
       ":   117\n",
       "\n"
      ],
      "text/plain": [
       " Full Time  Part Time Unemployed \n",
       "       193         79        117 "
      ]
     },
     "metadata": {},
     "output_type": "display_data"
    }
   ],
   "source": [
    "summary(Cleaned_jeans_data$Employ)"
   ]
  },
  {
   "cell_type": "code",
   "execution_count": 30,
   "id": "cabe8c43",
   "metadata": {},
   "outputs": [
    {
     "data": {
      "image/png": "[encoded data removed]",
      "text/plain": [
       "Plot with title \"Pie chart for 'Employ'\""
      ]
     },
     "metadata": {
      "image/png": {
       "height": 420,
       "width": 420
      }
     },
     "output_type": "display_data"
    }
   ],
   "source": [
    "EMPLOY <- c(193, 79, 117)\n",
    "cols=rainbow(length(EMPLOY)) # Set up colours for printing.\n",
    "percentlabels<- round(100*EMPLOY/sum(EMPLOY), 1) # Calculate percentage for category\n",
    "pielabels<- paste(percentlabels, \"%\", sep=\"\") # Add a ‘%’ sign to each percentag\n",
    "pie(EMPLOY, main=\"Pie chart for 'Employ'\", col=cols, labels=pielabels, cex=0.8) # Pl\n",
    "legend(\"topright\", c(\"Full Time\", \"Part Time\", \"Unemployed\"), cex=0.8, fill=cols,  \n",
    "       title=\"Employ\", text.font=4, bg='lightblue')\n",
    "\n",
    "# dev.copy(png,'output/Size_Cleaned_Pie-Chart.png')\n",
    "# dev.off()"
   ]
  },
  {
   "cell_type": "code",
   "execution_count": 31,
   "id": "7fcdb273",
   "metadata": {},
   "outputs": [
    {
     "data": {
      "image/png": "[encoded data removed]",
      "text/plain": [
       "Plot with title \"Bar Chart for Employ\""
      ]
     },
     "metadata": {
      "image/png": {
       "height": 420,
       "width": 420
      }
     },
     "output_type": "display_data"
    }
   ],
   "source": [
    "Employ_bar_chart <- plot(Cleaned_jeans_data$Employ, main = \"Bar Chart for Employ\", ylab = \"Frequency\", xlab = \"Employ\", \n",
    "                         col = \"brown\", border = \"black\")\n",
    "# dev.copy(png,'output/Employ_Vanilla_Bar_Graph.png')\n",
    "# dev.off()"
   ]
  },
  {
   "cell_type": "markdown",
   "id": "ae0024b2",
   "metadata": {},
   "source": [
    "##### Visualisations of Distributions for 'Education' Independent Variable"
   ]
  },
  {
   "cell_type": "code",
   "execution_count": 32,
   "id": "7d8d6034",
   "metadata": {},
   "outputs": [
    {
     "data": {
      "text/html": [
       "<style>\n",
       ".dl-inline {width: auto; margin:0; padding: 0}\n",
       ".dl-inline>dt, .dl-inline>dd {float: none; width: auto; display: inline-block}\n",
       ".dl-inline>dt::after {content: \":\\0020\"; padding-right: .5ex}\n",
       ".dl-inline>dt:not(:first-of-type) {padding-left: .5ex}\n",
       "</style><dl class=dl-inline><dt>BusNurTe</dt><dd>31</dd><dt>CollGrad</dt><dd>105</dd><dt>GradDeg</dt><dd>60</dd><dt>GradeSch</dt><dd>3</dd><dt>HighSchl</dt><dd>84</dd><dt>SomeColl</dt><dd>98</dd><dt>SomeHigh</dt><dd>8</dd></dl>\n"
      ],
      "text/latex": [
       "\\begin{description*}\n",
       "\\item[BusNurTe] 31\n",
       "\\item[CollGrad] 105\n",
       "\\item[GradDeg] 60\n",
       "\\item[GradeSch] 3\n",
       "\\item[HighSchl] 84\n",
       "\\item[SomeColl] 98\n",
       "\\item[SomeHigh] 8\n",
       "\\end{description*}\n"
      ],
      "text/markdown": [
       "BusNurTe\n",
       ":   31CollGrad\n",
       ":   105GradDeg\n",
       ":   60GradeSch\n",
       ":   3HighSchl\n",
       ":   84SomeColl\n",
       ":   98SomeHigh\n",
       ":   8\n",
       "\n"
      ],
      "text/plain": [
       "BusNurTe CollGrad  GradDeg GradeSch HighSchl SomeColl SomeHigh \n",
       "      31      105       60        3       84       98        8 "
      ]
     },
     "metadata": {},
     "output_type": "display_data"
    }
   ],
   "source": [
    "summary(Cleaned_jeans_data$Educ)"
   ]
  },
  {
   "cell_type": "code",
   "execution_count": 33,
   "id": "4ba5ca49",
   "metadata": {},
   "outputs": [
    {
     "data": {
      "image/png": "[encoded data removed]",
      "text/plain": [
       "Plot with title \"Pie chart for 'Education'\""
      ]
     },
     "metadata": {
      "image/png": {
       "height": 420,
       "width": 420
      }
     },
     "output_type": "display_data"
    }
   ],
   "source": [
    "EDUCATION <- c(31, 105, 60, 3, 84, 98, 8)\n",
    "cols=rainbow(length(EDUCATION)) # Set up colours for printing.\n",
    "percentlabels<- round(100*EDUCATION/sum(EDUCATION), 1) # Calculate percentage for category\n",
    "pielabels<- paste(percentlabels, \"%\", sep=\"\") # Add a ‘%’ sign to each percentag\n",
    "pie(EDUCATION, main=\"Pie chart for 'Education'\", col=cols, labels=pielabels, cex=0.8) # Pl\n",
    "legend(\"topright\", c(\"BusNurTe\", \"CollGrad\", \"GradDeg\", \"GradeSch\", \"HighSchl\", \"SomeColl\", \"SomeHigh\"), cex=0.8, fill=cols,  \n",
    "       title=\"Education\", text.font=4, bg='lightblue')\n",
    "\n",
    "# dev.copy(png,'output/Size_Cleaned_Pie-Chart.png')\n",
    "# dev.off()"
   ]
  },
  {
   "cell_type": "code",
   "execution_count": 34,
   "id": "72f9b283",
   "metadata": {},
   "outputs": [
    {
     "data": {
      "image/png": "[encoded data removed]",
      "text/plain": [
       "Plot with title \"Bar Chart for Education\""
      ]
     },
     "metadata": {
      "image/png": {
       "height": 420,
       "width": 420
      }
     },
     "output_type": "display_data"
    }
   ],
   "source": [
    "Education_bar_chart <- plot(Cleaned_jeans_data$Educ, main = \"Bar Chart for Education\", ylab = \"Frequency\", \n",
    "                          xlab = \"Educ\", col = \"tomato\", border = \"black\")\n",
    "# dev.copy(png,'output/Marital_Vanilla_Bar_Graph.png')\n",
    "# dev.off()"
   ]
  },
  {
   "cell_type": "markdown",
   "id": "133f1dd6",
   "metadata": {},
   "source": [
    "##### Visualisations of Distributions for 'Income' Independent Variable"
   ]
  },
  {
   "cell_type": "code",
   "execution_count": 35,
   "id": "ea2c2032",
   "metadata": {},
   "outputs": [
    {
     "data": {
      "text/html": [
       "<style>\n",
       ".dl-inline {width: auto; margin:0; padding: 0}\n",
       ".dl-inline>dt, .dl-inline>dd {float: none; width: auto; display: inline-block}\n",
       ".dl-inline>dt::after {content: \":\\0020\"; padding-right: .5ex}\n",
       ".dl-inline>dt:not(:first-of-type) {padding-left: .5ex}\n",
       "</style><dl class=dl-inline><dt>100 Plus</dt><dd>23</dd><dt>15 to 24.9</dt><dd>47</dd><dt>25 to 34.9</dt><dd>70</dd><dt>35 to 49.9</dt><dd>113</dd><dt>50 to 74.9</dt><dd>81</dd><dt>75 to 99.9</dt><dd>29</dd><dt>Under 15</dt><dd>26</dd></dl>\n"
      ],
      "text/latex": [
       "\\begin{description*}\n",
       "\\item[100 Plus] 23\n",
       "\\item[15 to 24.9] 47\n",
       "\\item[25 to 34.9] 70\n",
       "\\item[35 to 49.9] 113\n",
       "\\item[50 to 74.9] 81\n",
       "\\item[75 to 99.9] 29\n",
       "\\item[Under 15] 26\n",
       "\\end{description*}\n"
      ],
      "text/markdown": [
       "100 Plus\n",
       ":   2315 to 24.9\n",
       ":   4725 to 34.9\n",
       ":   7035 to 49.9\n",
       ":   11350 to 74.9\n",
       ":   8175 to 99.9\n",
       ":   29Under 15\n",
       ":   26\n",
       "\n"
      ],
      "text/plain": [
       "  100 Plus 15 to 24.9 25 to 34.9 35 to 49.9 50 to 74.9 75 to 99.9   Under 15 \n",
       "        23         47         70        113         81         29         26 "
      ]
     },
     "metadata": {},
     "output_type": "display_data"
    }
   ],
   "source": [
    "summary(Cleaned_jeans_data$Income)"
   ]
  },
  {
   "cell_type": "code",
   "execution_count": 36,
   "id": "771286e8",
   "metadata": {},
   "outputs": [
    {
     "data": {
      "image/png": "[encoded data removed]",
      "text/plain": [
       "Plot with title \"Pie chart for 'Income'\""
      ]
     },
     "metadata": {
      "image/png": {
       "height": 420,
       "width": 420
      }
     },
     "output_type": "display_data"
    }
   ],
   "source": [
    "INCOME <- c(23, 47, 70, 113, 81, 29, 26)\n",
    "cols=rainbow(length(INCOME)) # Set up colours for printing.\n",
    "percentlabels<- round(100*INCOME/sum(INCOME), 1) # Calculate percentage for category\n",
    "pielabels<- paste(percentlabels, \"%\", sep=\"\") # Add a ‘%’ sign to each percentag\n",
    "pie(INCOME, main=\"Pie chart for 'Income'\", col=cols, labels=pielabels, cex=0.8) # Pl\n",
    "legend(\"topright\", c(\"100 Plus\", \"15 to 24.9\", \"25 to 34.9\", \"35 to 49.9\", \"50 to 74.9\", \"75 to 99.9\", \"Under 15\"), cex=0.8, fill=cols,  \n",
    "       title=\"Income\", text.font=4, bg='lightblue')\n",
    "\n",
    "# dev.copy(png,'output/Size_Cleaned_Pie-Chart.png')\n",
    "# dev.off()"
   ]
  },
  {
   "cell_type": "code",
   "execution_count": 37,
   "id": "a5216bb8",
   "metadata": {},
   "outputs": [
    {
     "data": {
      "image/png": "[encoded data removed]",
      "text/plain": [
       "Plot with title \"Bar Chart for Income\""
      ]
     },
     "metadata": {
      "image/png": {
       "height": 420,
       "width": 420
      }
     },
     "output_type": "display_data"
    }
   ],
   "source": [
    "Income_bar_chart <- plot(Cleaned_jeans_data$Income, main = \"Bar Chart for Income\", ylab = \"Frequency\", \n",
    "                          xlab = \"Income\", col = \"sienna\", border = \"black\")\n",
    "# dev.copy(png,'output/Marital_Vanilla_Bar_Graph.png')\n",
    "# dev.off()"
   ]
  },
  {
   "cell_type": "markdown",
   "id": "ddd0c4f1",
   "metadata": {},
   "source": [
    "##### Visualisations of Distributions for 'Fashion' Independent Variable"
   ]
  },
  {
   "cell_type": "code",
   "execution_count": 38,
   "id": "463f258d",
   "metadata": {},
   "outputs": [
    {
     "data": {
      "text/html": [
       "<style>\n",
       ".dl-inline {width: auto; margin:0; padding: 0}\n",
       ".dl-inline>dt, .dl-inline>dd {float: none; width: auto; display: inline-block}\n",
       ".dl-inline>dt::after {content: \":\\0020\"; padding-right: .5ex}\n",
       ".dl-inline>dt:not(:first-of-type) {padding-left: .5ex}\n",
       "</style><dl class=dl-inline><dt>Agree</dt><dd>118</dd><dt>Definitely Disagree</dt><dd>18</dd><dt>Defintely Agree</dt><dd>72</dd><dt>Disagree</dt><dd>31</dd><dt>Partly Agree</dt><dd>105</dd><dt>Partly Disagree</dt><dd>45</dd></dl>\n"
      ],
      "text/latex": [
       "\\begin{description*}\n",
       "\\item[Agree] 118\n",
       "\\item[Definitely Disagree] 18\n",
       "\\item[Defintely Agree] 72\n",
       "\\item[Disagree] 31\n",
       "\\item[Partly Agree] 105\n",
       "\\item[Partly Disagree] 45\n",
       "\\end{description*}\n"
      ],
      "text/markdown": [
       "Agree\n",
       ":   118Definitely Disagree\n",
       ":   18Defintely Agree\n",
       ":   72Disagree\n",
       ":   31Partly Agree\n",
       ":   105Partly Disagree\n",
       ":   45\n",
       "\n"
      ],
      "text/plain": [
       "              Agree Definitely Disagree     Defintely Agree            Disagree \n",
       "                118                  18                  72                  31 \n",
       "       Partly Agree     Partly Disagree \n",
       "                105                  45 "
      ]
     },
     "metadata": {},
     "output_type": "display_data"
    }
   ],
   "source": [
    "summary(Cleaned_jeans_data$Fashion)"
   ]
  },
  {
   "cell_type": "code",
   "execution_count": 39,
   "id": "99eb3ec1",
   "metadata": {},
   "outputs": [
    {
     "data": {
      "image/png": "[encoded data removed]",
      "text/plain": [
       "Plot with title \"Pie chart for 'Fashion'\""
      ]
     },
     "metadata": {
      "image/png": {
       "height": 420,
       "width": 420
      }
     },
     "output_type": "display_data"
    }
   ],
   "source": [
    "FASHION <- c(118, 18, 72, 31, 105, 45)\n",
    "cols=rainbow(length(FASHION)) # Set up colours for printing.\n",
    "percentlabels<- round(100*FASHION/sum(FASHION), 1) # Calculate percentage for category\n",
    "pielabels<- paste(percentlabels, \"%\", sep=\"\") # Add a ‘%’ sign to each percentag\n",
    "pie(FASHION, main=\"Pie chart for 'Fashion'\", col=cols, labels=pielabels, cex=0.8) # Pl\n",
    "legend(\"topright\", c(\"Agree\", \"Definitely Disagree\", \"Defintely Agree\", \"Disagree\", \"Partly Agree\", \"Partly Disagree\"), cex=0.8, fill=cols,  \n",
    "       title=\"Fashion\", text.font=4, bg='lightblue')\n",
    "\n",
    "# dev.copy(png,'output/Size_Cleaned_Pie-Chart.png')\n",
    "# dev.off()"
   ]
  },
  {
   "cell_type": "code",
   "execution_count": 40,
   "id": "8a5499af",
   "metadata": {},
   "outputs": [
    {
     "data": {
      "image/png": "[encoded data removed]",
      "text/plain": [
       "Plot with title \"Bar Chart for Fashion\""
      ]
     },
     "metadata": {
      "image/png": {
       "height": 420,
       "width": 420
      }
     },
     "output_type": "display_data"
    }
   ],
   "source": [
    "Fashion_bar_chart <- plot(Cleaned_jeans_data$Fashion, main = \"Bar Chart for Fashion\", ylab = \"Frequency\", \n",
    "                          xlab = \"Fashion\", col = \"firebrick\", border = \"black\")\n",
    "# dev.copy(png,'output/Marital_Vanilla_Bar_Graph.png')\n",
    "# dev.off()"
   ]
  },
  {
   "cell_type": "markdown",
   "id": "74c0307d",
   "metadata": {},
   "source": [
    "##### Visualisations of Distributions for 'Cost' Independent Variable"
   ]
  },
  {
   "cell_type": "code",
   "execution_count": 41,
   "id": "b6f7792a",
   "metadata": {},
   "outputs": [
    {
     "data": {
      "text/html": [
       "<style>\n",
       ".dl-inline {width: auto; margin:0; padding: 0}\n",
       ".dl-inline>dt, .dl-inline>dd {float: none; width: auto; display: inline-block}\n",
       ".dl-inline>dt::after {content: \":\\0020\"; padding-right: .5ex}\n",
       ".dl-inline>dt:not(:first-of-type) {padding-left: .5ex}\n",
       "</style><dl class=dl-inline><dt>Agree</dt><dd>106</dd><dt>Definitely Disagree</dt><dd>12</dd><dt>Defintely Agree</dt><dd>80</dd><dt>Disagree</dt><dd>36</dd><dt>Partly Agree</dt><dd>107</dd><dt>Partly Disagree</dt><dd>48</dd></dl>\n"
      ],
      "text/latex": [
       "\\begin{description*}\n",
       "\\item[Agree] 106\n",
       "\\item[Definitely Disagree] 12\n",
       "\\item[Defintely Agree] 80\n",
       "\\item[Disagree] 36\n",
       "\\item[Partly Agree] 107\n",
       "\\item[Partly Disagree] 48\n",
       "\\end{description*}\n"
      ],
      "text/markdown": [
       "Agree\n",
       ":   106Definitely Disagree\n",
       ":   12Defintely Agree\n",
       ":   80Disagree\n",
       ":   36Partly Agree\n",
       ":   107Partly Disagree\n",
       ":   48\n",
       "\n"
      ],
      "text/plain": [
       "              Agree Definitely Disagree     Defintely Agree            Disagree \n",
       "                106                  12                  80                  36 \n",
       "       Partly Agree     Partly Disagree \n",
       "                107                  48 "
      ]
     },
     "metadata": {},
     "output_type": "display_data"
    }
   ],
   "source": [
    "summary(Cleaned_jeans_data$Cost)"
   ]
  },
  {
   "cell_type": "code",
   "execution_count": 42,
   "id": "5a638b68",
   "metadata": {},
   "outputs": [
    {
     "data": {
      "image/png": "[encoded data removed]",
      "text/plain": [
       "Plot with title \"Pie chart for 'Cost'\""
      ]
     },
     "metadata": {
      "image/png": {
       "height": 420,
       "width": 420
      }
     },
     "output_type": "display_data"
    }
   ],
   "source": [
    "COST <- c(106, 12, 80, 36, 107, 48)\n",
    "cols=rainbow(length(COST)) # Set up colours for printing.\n",
    "percentlabels<- round(100*COST/sum(COST), 1) # Calculate percentage for category\n",
    "pielabels<- paste(percentlabels, \"%\", sep=\"\") # Add a ‘%’ sign to each percentag\n",
    "pie(COST, main=\"Pie chart for 'Cost'\", col=cols, labels=pielabels, cex=0.8) # Pl\n",
    "legend(\"topright\", c(\"Agree\", \"Definitely Disagree\", \"Defintely Agree\", \"Disagree\", \"Partly Agree\", \"Partly Disagree\"), cex=0.8, fill=cols,  \n",
    "       title=\"Cost\", text.font=4, bg='lightblue')\n",
    "\n",
    "# dev.copy(png,'output/Size_Cleaned_Pie-Chart.png')\n",
    "# dev.off()"
   ]
  },
  {
   "cell_type": "code",
   "execution_count": 43,
   "id": "1da37a60",
   "metadata": {},
   "outputs": [
    {
     "data": {
      "image/png": "[encoded data removed]",
      "text/plain": [
       "Plot with title \"Bar Chart for Cost\""
      ]
     },
     "metadata": {
      "image/png": {
       "height": 420,
       "width": 420
      }
     },
     "output_type": "display_data"
    }
   ],
   "source": [
    "Cost_bar_chart <- plot(Cleaned_jeans_data$Cost, main = \"Bar Chart for Cost\", ylab = \"Frequency\", \n",
    "                          xlab = \"Cost\", col = \"brown\", border = \"black\")\n",
    "# dev.copy(png,'output/Marital_Vanilla_Bar_Graph.png')\n",
    "# dev.off()"
   ]
  },
  {
   "cell_type": "markdown",
   "id": "565d965c",
   "metadata": {},
   "source": [
    "##### Visualisations of Distributions for 'Interest' Independent Variable"
   ]
  },
  {
   "cell_type": "code",
   "execution_count": 44,
   "id": "bffcc854",
   "metadata": {},
   "outputs": [
    {
     "data": {
      "text/html": [
       "<style>\n",
       ".dl-inline {width: auto; margin:0; padding: 0}\n",
       ".dl-inline>dt, .dl-inline>dd {float: none; width: auto; display: inline-block}\n",
       ".dl-inline>dt::after {content: \":\\0020\"; padding-right: .5ex}\n",
       ".dl-inline>dt:not(:first-of-type) {padding-left: .5ex}\n",
       "</style><dl class=dl-inline><dt>Agree</dt><dd>51</dd><dt>Definitely Disagree</dt><dd>48</dd><dt>Defintely Agree</dt><dd>22</dd><dt>Disagree</dt><dd>82</dd><dt>Partly Agree</dt><dd>94</dd><dt>Partly Disagree</dt><dd>92</dd></dl>\n"
      ],
      "text/latex": [
       "\\begin{description*}\n",
       "\\item[Agree] 51\n",
       "\\item[Definitely Disagree] 48\n",
       "\\item[Defintely Agree] 22\n",
       "\\item[Disagree] 82\n",
       "\\item[Partly Agree] 94\n",
       "\\item[Partly Disagree] 92\n",
       "\\end{description*}\n"
      ],
      "text/markdown": [
       "Agree\n",
       ":   51Definitely Disagree\n",
       ":   48Defintely Agree\n",
       ":   22Disagree\n",
       ":   82Partly Agree\n",
       ":   94Partly Disagree\n",
       ":   92\n",
       "\n"
      ],
      "text/plain": [
       "              Agree Definitely Disagree     Defintely Agree            Disagree \n",
       "                 51                  48                  22                  82 \n",
       "       Partly Agree     Partly Disagree \n",
       "                 94                  92 "
      ]
     },
     "metadata": {},
     "output_type": "display_data"
    }
   ],
   "source": [
    "summary(Cleaned_jeans_data$Interest)"
   ]
  },
  {
   "cell_type": "code",
   "execution_count": 45,
   "id": "6b706c83",
   "metadata": {},
   "outputs": [
    {
     "data": {
      "image/png": "[encoded data removed]",
      "text/plain": [
       "Plot with title \"Pie chart for 'Interest'\""
      ]
     },
     "metadata": {
      "image/png": {
       "height": 420,
       "width": 420
      }
     },
     "output_type": "display_data"
    }
   ],
   "source": [
    "INTEREST <- c(51, 48, 22, 82, 94, 92)\n",
    "cols=rainbow(length(INTEREST)) # Set up colours for printing.\n",
    "percentlabels<- round(100*INTEREST/sum(INTEREST), 1) # Calculate percentage for category\n",
    "pielabels<- paste(percentlabels, \"%\", sep=\"\") # Add a ‘%’ sign to each percentag\n",
    "pie(INTEREST, main=\"Pie chart for 'Interest'\", col=cols, labels=pielabels, cex=0.8) # Pl\n",
    "legend(\"topright\", c(\"Agree\", \"Definitely Disagree\", \"Defintely Agree\", \"Disagree\", \"Partly Agree\", \"Partly Disagree\"), cex=0.8, fill=cols,  \n",
    "       title=\"Interest\", text.font=4, bg='lightblue')\n",
    "\n",
    "# dev.copy(png,'output/Size_Cleaned_Pie-Chart.png')\n",
    "# dev.off()"
   ]
  },
  {
   "cell_type": "code",
   "execution_count": 46,
   "id": "92876b1c",
   "metadata": {},
   "outputs": [
    {
     "data": {
      "image/png": "[encoded data removed]",
      "text/plain": [
       "Plot with title \"Bar Chart for Interest\""
      ]
     },
     "metadata": {
      "image/png": {
       "height": 420,
       "width": 420
      }
     },
     "output_type": "display_data"
    }
   ],
   "source": [
    "Interest_bar_chart <- plot(Cleaned_jeans_data$Interest, main = \"Bar Chart for Interest\", ylab = \"Frequency\", \n",
    "                          xlab = \"Interest\", col = \"navy\", border = \"black\")\n",
    "# dev.copy(png,'output/Marital_Vanilla_Bar_Graph.png')\n",
    "# dev.off()"
   ]
  },
  {
   "cell_type": "markdown",
   "id": "c0a79697",
   "metadata": {},
   "source": [
    "##### Visualisations of Distributions for 'Spend' Independent Variable"
   ]
  },
  {
   "cell_type": "code",
   "execution_count": 47,
   "id": "6f662dd2",
   "metadata": {},
   "outputs": [
    {
     "data": {
      "text/html": [
       "<style>\n",
       ".dl-inline {width: auto; margin:0; padding: 0}\n",
       ".dl-inline>dt, .dl-inline>dd {float: none; width: auto; display: inline-block}\n",
       ".dl-inline>dt::after {content: \":\\0020\"; padding-right: .5ex}\n",
       ".dl-inline>dt:not(:first-of-type) {padding-left: .5ex}\n",
       "</style><dl class=dl-inline><dt>Agree</dt><dd>64</dd><dt>Definitely Disagree</dt><dd>67</dd><dt>Defintely Agree</dt><dd>38</dd><dt>Disagree</dt><dd>61</dd><dt>Partly Agree</dt><dd>87</dd><dt>Partly Disagree</dt><dd>72</dd></dl>\n"
      ],
      "text/latex": [
       "\\begin{description*}\n",
       "\\item[Agree] 64\n",
       "\\item[Definitely Disagree] 67\n",
       "\\item[Defintely Agree] 38\n",
       "\\item[Disagree] 61\n",
       "\\item[Partly Agree] 87\n",
       "\\item[Partly Disagree] 72\n",
       "\\end{description*}\n"
      ],
      "text/markdown": [
       "Agree\n",
       ":   64Definitely Disagree\n",
       ":   67Defintely Agree\n",
       ":   38Disagree\n",
       ":   61Partly Agree\n",
       ":   87Partly Disagree\n",
       ":   72\n",
       "\n"
      ],
      "text/plain": [
       "              Agree Definitely Disagree     Defintely Agree            Disagree \n",
       "                 64                  67                  38                  61 \n",
       "       Partly Agree     Partly Disagree \n",
       "                 87                  72 "
      ]
     },
     "metadata": {},
     "output_type": "display_data"
    }
   ],
   "source": [
    "summary(Cleaned_jeans_data$Spend)"
   ]
  },
  {
   "cell_type": "code",
   "execution_count": 48,
   "id": "53bd16d4",
   "metadata": {},
   "outputs": [
    {
     "data": {
      "image/png": "[encoded data removed]",
      "text/plain": [
       "Plot with title \"Pie chart for 'Spend'\""
      ]
     },
     "metadata": {
      "image/png": {
       "height": 420,
       "width": 420
      }
     },
     "output_type": "display_data"
    }
   ],
   "source": [
    "SPEND <- c(64, 67, 38, 61, 87, 72)\n",
    "cols=rainbow(length(SPEND)) # Set up colours for printing.\n",
    "percentlabels<- round(100*SPEND/sum(SPEND), 1) # Calculate percentage for category\n",
    "pielabels<- paste(percentlabels, \"%\", sep=\"\") # Add a ‘%’ sign to each percentag\n",
    "pie(SPEND, main=\"Pie chart for 'Spend'\", col=cols, labels=pielabels, cex=0.8) # Pl\n",
    "legend(\"topright\", c(\"Agree\", \"Definitely Disagree\", \"Defintely Agree\", \"Disagree\", \"Partly Agree\", \"Partly Disagree\"), cex=0.8, fill=cols,  \n",
    "       title=\"Spend\", text.font=4, bg='lightblue')\n",
    "\n",
    "# dev.copy(png,'output/Size_Cleaned_Pie-Chart.png')\n",
    "# dev.off()"
   ]
  },
  {
   "cell_type": "code",
   "execution_count": 49,
   "id": "302892e3",
   "metadata": {},
   "outputs": [
    {
     "data": {
      "image/png": "[encoded data removed]",
      "text/plain": [
       "Plot with title \"Bar Chart for Spend\""
      ]
     },
     "metadata": {
      "image/png": {
       "height": 420,
       "width": 420
      }
     },
     "output_type": "display_data"
    }
   ],
   "source": [
    "Spend_bar_chart <- plot(Cleaned_jeans_data$Spend, main = \"Bar Chart for Spend\", ylab = \"Frequency\", \n",
    "                          xlab = \"Spend\", col = \"green\", border = \"black\")\n",
    "# dev.copy(png,'output/Marital_Vanilla_Bar_Graph.png')\n",
    "# dev.off()"
   ]
  },
  {
   "cell_type": "markdown",
   "id": "474199d3",
   "metadata": {},
   "source": [
    "##### Visualisations of Distributions for 'Jeanshop' Independent Variable"
   ]
  },
  {
   "cell_type": "code",
   "execution_count": 50,
   "id": "d14250eb",
   "metadata": {},
   "outputs": [
    {
     "data": {
      "text/html": [
       "<style>\n",
       ".dl-inline {width: auto; margin:0; padding: 0}\n",
       ".dl-inline>dt, .dl-inline>dd {float: none; width: auto; display: inline-block}\n",
       ".dl-inline>dt::after {content: \":\\0020\"; padding-right: .5ex}\n",
       ".dl-inline>dt:not(:first-of-type) {padding-left: .5ex}\n",
       "</style><dl class=dl-inline><dt>1</dt><dd>6</dd><dt>2</dt><dd>17</dd><dt>3</dt><dd>13</dd><dt>4</dt><dd>65</dd><dt>5</dt><dd>93</dd><dt>6</dt><dd>67</dd><dt>7</dt><dd>12</dd><dt>8</dt><dd>5</dd><dt>9</dt><dd>11</dd><dt>10</dt><dd>78</dd><dt>11</dt><dd>22</dd></dl>\n"
      ],
      "text/latex": [
       "\\begin{description*}\n",
       "\\item[1] 6\n",
       "\\item[2] 17\n",
       "\\item[3] 13\n",
       "\\item[4] 65\n",
       "\\item[5] 93\n",
       "\\item[6] 67\n",
       "\\item[7] 12\n",
       "\\item[8] 5\n",
       "\\item[9] 11\n",
       "\\item[10] 78\n",
       "\\item[11] 22\n",
       "\\end{description*}\n"
      ],
      "text/markdown": [
       "1\n",
       ":   62\n",
       ":   173\n",
       ":   134\n",
       ":   655\n",
       ":   936\n",
       ":   677\n",
       ":   128\n",
       ":   59\n",
       ":   1110\n",
       ":   7811\n",
       ":   22\n",
       "\n"
      ],
      "text/plain": [
       " 1  2  3  4  5  6  7  8  9 10 11 \n",
       " 6 17 13 65 93 67 12  5 11 78 22 "
      ]
     },
     "metadata": {},
     "output_type": "display_data"
    }
   ],
   "source": [
    "summary(Cleaned_jeans_data$JeanShop)"
   ]
  },
  {
   "cell_type": "code",
   "execution_count": 51,
   "id": "7b763cb8",
   "metadata": {},
   "outputs": [
    {
     "data": {
      "image/png": "[encoded data removed]",
      "text/plain": [
       "Plot with title \"Pie chart for 'Jeanshop'\""
      ]
     },
     "metadata": {
      "image/png": {
       "height": 420,
       "width": 420
      }
     },
     "output_type": "display_data"
    }
   ],
   "source": [
    "JEANSHOP <- c(6, 17, 13, 65, 93, 67, 12, 5, 11, 78, 22)\n",
    "cols=rainbow(length(JEANSHOP)) # Set up colours for printing.\n",
    "percentlabels<- round(100*JEANSHOP/sum(JEANSHOP), 1) # Calculate percentage for category\n",
    "pielabels<- paste(percentlabels, \"%\", sep=\"\") # Add a ‘%’ sign to each percentag\n",
    "pie(JEANSHOP, main=\"Pie chart for 'Jeanshop'\", col=cols, labels=pielabels, cex=0.8) # Pl\n",
    "legend(\"topright\", c(\"1\",\"2\", \"3\", \"4\", \"5\", \"6\", \"7\", \"8\", \"9\", \"10\", \"11\"), cex=0.8, fill=cols,  \n",
    "       title=\"Jeanshop\", text.font=4, bg='lightblue')\n",
    "\n",
    "# dev.copy(png,'output/Size_Cleaned_Pie-Chart.png')\n",
    "# dev.off()"
   ]
  },
  {
   "cell_type": "code",
   "execution_count": 52,
   "id": "207b130a",
   "metadata": {},
   "outputs": [
    {
     "data": {
      "image/png": "[encoded data removed]",
      "text/plain": [
       "Plot with title \"Bar Chart for Jeanshop\""
      ]
     },
     "metadata": {
      "image/png": {
       "height": 420,
       "width": 420
      }
     },
     "output_type": "display_data"
    }
   ],
   "source": [
    "Jeanshop_bar_chart <- plot(Cleaned_jeans_data$JeanShop, main = \"Bar Chart for Jeanshop\", ylab = \"Frequency\", \n",
    "                          xlab = \"JeanShop\", col = \"red\", border = \"black\")\n",
    "# dev.copy(png,'output/Marital_Vanilla_Bar_Graph.png')\n",
    "# dev.off()"
   ]
  },
  {
   "cell_type": "markdown",
   "id": "425a6051",
   "metadata": {},
   "source": [
    "#### Visualisations of Distributions for 'PayJean' Dependent Variable"
   ]
  },
  {
   "cell_type": "code",
   "execution_count": 53,
   "id": "d0a02a4a",
   "metadata": {},
   "outputs": [
    {
     "data": {
      "image/png": "[encoded data removed]",
      "text/plain": [
       "Plot with title \"Histogram\""
      ]
     },
     "metadata": {
      "image/png": {
       "height": 420,
       "width": 420
      }
     },
     "output_type": "display_data"
    }
   ],
   "source": [
    "payjean_vanilla <- hist(x=Cleaned_jeans_data$PayJean, breaks=10, main = \"Histogram\", xlab = \"Size\", \n",
    "                        col = \"gold\", border = \"black\")\n",
    "# dev.copy(png,'output/PayJean_Cleaned_Histogram.png')\n",
    "# dev.off()"
   ]
  },
  {
   "cell_type": "markdown",
   "id": "bc18ed5e",
   "metadata": {},
   "source": [
    "### Multiple Linear Regression (MLR) Modelling"
   ]
  },
  {
   "cell_type": "markdown",
   "id": "c857beb5",
   "metadata": {},
   "source": [
    "#### Create the MLR Model for ALL Variables"
   ]
  },
  {
   "cell_type": "code",
   "execution_count": 54,
   "id": "122e9776",
   "metadata": {},
   "outputs": [],
   "source": [
    "jean_all.lm<-lm(data=Cleaned_jeans_data, PayJean ~ Size+Age+Marital+Earners+Employ+Educ+Income+JeanShop+Fashion+Cost+Interest+Spend)"
   ]
  },
  {
   "cell_type": "markdown",
   "id": "f4e99976",
   "metadata": {},
   "source": [
    "#### Explore the MLR Statistical Summary for ALL Variables"
   ]
  },
  {
   "cell_type": "code",
   "execution_count": 55,
   "id": "ed191a32",
   "metadata": {},
   "outputs": [
    {
     "data": {
      "text/plain": [
       "\n",
       "Call:\n",
       "lm(formula = PayJean ~ Size + Age + Marital + Earners + Employ + \n",
       "    Educ + Income + JeanShop + Fashion + Cost + Interest + Spend, \n",
       "    data = Cleaned_jeans_data)\n",
       "\n",
       "Residuals:\n",
       "    Min      1Q  Median      3Q     Max \n",
       "-20.382  -5.783  -0.910   4.495  62.524 \n",
       "\n",
       "Coefficients:\n",
       "                              Estimate Std. Error t value Pr(>|t|)    \n",
       "(Intercept)                   64.12837    8.24679   7.776 9.56e-14 ***\n",
       "SizeJunior                    -7.45683    3.03948  -2.453 0.014669 *  \n",
       "SizeMisses                    -4.28402    2.80287  -1.528 0.127358    \n",
       "SizePetite                    -6.11318    3.12244  -1.958 0.051090 .  \n",
       "Age25 to 34                   -3.39267    2.13659  -1.588 0.113266    \n",
       "Age35 to 44                   -1.06103    2.34702  -0.452 0.651511    \n",
       "Age45 to 54                   -1.09575    2.58196  -0.424 0.671558    \n",
       "Age55 to 64                    0.03560    2.91345   0.012 0.990259    \n",
       "Age65 Plus                    -5.11302    3.89170  -1.314 0.189814    \n",
       "MaritalDivorced or Separated  -0.60980    4.40029  -0.139 0.889865    \n",
       "MaritalMarried                -1.08148    3.63289  -0.298 0.766126    \n",
       "MaritalSingle                 -1.92394    3.95810  -0.486 0.627235    \n",
       "MaritalWidowed                -0.31157    5.19330  -0.060 0.952196    \n",
       "Earners2                       0.13882    1.56244   0.089 0.929259    \n",
       "EmployPart Time                0.39837    1.77241   0.225 0.822303    \n",
       "EmployUnemployed              -1.26338    1.72677  -0.732 0.464904    \n",
       "EducCollGrad                  -1.47958    2.36327  -0.626 0.531697    \n",
       "EducGradDeg                   -2.24906    2.56496  -0.877 0.381208    \n",
       "EducGradeSch                  17.47040    7.45162   2.345 0.019643 *  \n",
       "EducHighSchl                  -2.09144    2.35425  -0.888 0.374987    \n",
       "EducSomeColl                   0.31292    2.38365   0.131 0.895637    \n",
       "EducSomeHigh                   6.51457    4.43527   1.469 0.142834    \n",
       "Income15 to 24.9              -2.46599    3.11224  -0.792 0.428724    \n",
       "Income25 to 34.9              -4.99050    2.91366  -1.713 0.087687 .  \n",
       "Income35 to 49.9              -3.24120    2.68412  -1.208 0.228084    \n",
       "Income50 to 74.9              -0.85487    2.64803  -0.323 0.747025    \n",
       "Income75 to 99.9               0.34528    3.08810   0.112 0.911042    \n",
       "IncomeUnder 15                -3.11367    3.54783  -0.878 0.380783    \n",
       "JeanShop2                    -19.73479    5.15397  -3.829 0.000154 ***\n",
       "JeanShop3                     -8.13968    5.36760  -1.516 0.130361    \n",
       "JeanShop4                    -24.37437    4.73409  -5.149 4.51e-07 ***\n",
       "JeanShop5                    -29.44173    4.73896  -6.213 1.56e-09 ***\n",
       "JeanShop6                    -11.55352    4.61057  -2.506 0.012694 *  \n",
       "JeanShop7                    -22.89739    5.43282  -4.215 3.23e-05 ***\n",
       "JeanShop8                    -10.07515    6.56511  -1.535 0.125825    \n",
       "JeanShop9                     -0.27709    5.45266  -0.051 0.959502    \n",
       "JeanShop10                   -21.00236    4.63702  -4.529 8.27e-06 ***\n",
       "JeanShop11                   -13.31749    4.99776  -2.665 0.008083 ** \n",
       "FashionDefinitely Disagree     1.01959    2.98700   0.341 0.733061    \n",
       "FashionDefintely Agree        -0.22904    1.78585  -0.128 0.898028    \n",
       "FashionDisagree                0.05268    2.26235   0.023 0.981438    \n",
       "FashionPartly Agree            5.05256    1.52034   3.323 0.000989 ***\n",
       "FashionPartly Disagree         4.87222    2.01185   2.422 0.015982 *  \n",
       "CostDefinitely Disagree        1.65491    3.33068   0.497 0.619611    \n",
       "CostDefintely Agree           -0.94608    1.67235  -0.566 0.571966    \n",
       "CostDisagree                   4.38643    2.22266   1.974 0.049270 *  \n",
       "CostPartly Agree              -1.10350    1.50044  -0.735 0.462587    \n",
       "CostPartly Disagree           -0.40007    1.94000  -0.206 0.836744    \n",
       "InterestDefinitely Disagree   -9.67950    2.36052  -4.101 5.19e-05 ***\n",
       "InterestDefintely Agree       -0.23750    3.06642  -0.077 0.938311    \n",
       "InterestDisagree              -8.33715    2.10695  -3.957 9.29e-05 ***\n",
       "InterestPartly Agree          -6.01237    1.96576  -3.059 0.002406 ** \n",
       "InterestPartly Disagree       -8.72165    2.01810  -4.322 2.05e-05 ***\n",
       "SpendDefinitely Disagree      -2.08655    1.95181  -1.069 0.285832    \n",
       "SpendDefintely Agree           1.77655    2.23529   0.795 0.427314    \n",
       "SpendDisagree                  0.24931    1.94371   0.128 0.898016    \n",
       "SpendPartly Agree              0.22039    1.77937   0.124 0.901503    \n",
       "SpendPartly Disagree          -0.76726    1.86620  -0.411 0.681239    \n",
       "---\n",
       "Signif. codes:  0 '***' 0.001 '**' 0.01 '*' 0.05 '.' 0.1 ' ' 1\n",
       "\n",
       "Residual standard error: 10.18 on 331 degrees of freedom\n",
       "Multiple R-squared:  0.5275,\tAdjusted R-squared:  0.4461 \n",
       "F-statistic: 6.482 on 57 and 331 DF,  p-value: < 2.2e-16\n"
      ]
     },
     "metadata": {},
     "output_type": "display_data"
    }
   ],
   "source": [
    "summary(jean_all.lm)"
   ]
  },
  {
   "cell_type": "markdown",
   "id": "b1e27e7d",
   "metadata": {},
   "source": [
    "#### Analysis of Variance (ANOVA) for the MLR for ALL Variables"
   ]
  },
  {
   "cell_type": "code",
   "execution_count": 56,
   "id": "4240d4fd",
   "metadata": {},
   "outputs": [
    {
     "data": {
      "text/html": [
       "<table class=\"dataframe\">\n",
       "<caption>A anova: 13 × 5</caption>\n",
       "<thead>\n",
       "\t<tr><th></th><th scope=col>Df</th><th scope=col>Sum Sq</th><th scope=col>Mean Sq</th><th scope=col>F value</th><th scope=col>Pr(&gt;F)</th></tr>\n",
       "\t<tr><th></th><th scope=col>&lt;int&gt;</th><th scope=col>&lt;dbl&gt;</th><th scope=col>&lt;dbl&gt;</th><th scope=col>&lt;dbl&gt;</th><th scope=col>&lt;dbl&gt;</th></tr>\n",
       "</thead>\n",
       "<tbody>\n",
       "\t<tr><th scope=row>Size</th><td>  3</td><td>  310.0990</td><td> 103.36633</td><td> 0.9965036</td><td>3.946294e-01</td></tr>\n",
       "\t<tr><th scope=row>Age</th><td>  5</td><td> 2216.0647</td><td> 443.21293</td><td> 4.2727966</td><td>8.851841e-04</td></tr>\n",
       "\t<tr><th scope=row>Marital</th><td>  4</td><td>  966.2967</td><td> 241.57416</td><td> 2.3288970</td><td>5.595467e-02</td></tr>\n",
       "\t<tr><th scope=row>Earners</th><td>  1</td><td>  137.6100</td><td> 137.61003</td><td> 1.3266302</td><td>2.502368e-01</td></tr>\n",
       "\t<tr><th scope=row>Employ</th><td>  2</td><td>  101.7897</td><td>  50.89487</td><td> 0.4906522</td><td>6.126715e-01</td></tr>\n",
       "\t<tr><th scope=row>Educ</th><td>  6</td><td> 3845.7462</td><td> 640.95771</td><td> 6.1791562</td><td>3.683411e-06</td></tr>\n",
       "\t<tr><th scope=row>Income</th><td>  6</td><td> 4431.1215</td><td> 738.52026</td><td> 7.1197085</td><td>3.770027e-07</td></tr>\n",
       "\t<tr><th scope=row>JeanShop</th><td> 10</td><td>21166.6725</td><td>2116.66725</td><td>20.4057420</td><td>2.211814e-29</td></tr>\n",
       "\t<tr><th scope=row>Fashion</th><td>  5</td><td>  952.5189</td><td> 190.50379</td><td> 1.8365528</td><td>1.051963e-01</td></tr>\n",
       "\t<tr><th scope=row>Cost</th><td>  5</td><td>  974.4209</td><td> 194.88419</td><td> 1.8787821</td><td>9.750404e-02</td></tr>\n",
       "\t<tr><th scope=row>Interest</th><td>  5</td><td> 2870.8837</td><td> 574.17673</td><td> 5.5353539</td><td>6.525604e-05</td></tr>\n",
       "\t<tr><th scope=row>Spend</th><td>  5</td><td>  351.0729</td><td>  70.21458</td><td> 0.6769040</td><td>6.412284e-01</td></tr>\n",
       "\t<tr><th scope=row>Residuals</th><td>331</td><td>34334.2996</td><td> 103.72900</td><td>        NA</td><td>          NA</td></tr>\n",
       "</tbody>\n",
       "</table>\n"
      ],
      "text/latex": [
       "A anova: 13 × 5\n",
       "\\begin{tabular}{r|lllll}\n",
       "  & Df & Sum Sq & Mean Sq & F value & Pr(>F)\\\\\n",
       "  & <int> & <dbl> & <dbl> & <dbl> & <dbl>\\\\\n",
       "\\hline\n",
       "\tSize &   3 &   310.0990 &  103.36633 &  0.9965036 & 3.946294e-01\\\\\n",
       "\tAge &   5 &  2216.0647 &  443.21293 &  4.2727966 & 8.851841e-04\\\\\n",
       "\tMarital &   4 &   966.2967 &  241.57416 &  2.3288970 & 5.595467e-02\\\\\n",
       "\tEarners &   1 &   137.6100 &  137.61003 &  1.3266302 & 2.502368e-01\\\\\n",
       "\tEmploy &   2 &   101.7897 &   50.89487 &  0.4906522 & 6.126715e-01\\\\\n",
       "\tEduc &   6 &  3845.7462 &  640.95771 &  6.1791562 & 3.683411e-06\\\\\n",
       "\tIncome &   6 &  4431.1215 &  738.52026 &  7.1197085 & 3.770027e-07\\\\\n",
       "\tJeanShop &  10 & 21166.6725 & 2116.66725 & 20.4057420 & 2.211814e-29\\\\\n",
       "\tFashion &   5 &   952.5189 &  190.50379 &  1.8365528 & 1.051963e-01\\\\\n",
       "\tCost &   5 &   974.4209 &  194.88419 &  1.8787821 & 9.750404e-02\\\\\n",
       "\tInterest &   5 &  2870.8837 &  574.17673 &  5.5353539 & 6.525604e-05\\\\\n",
       "\tSpend &   5 &   351.0729 &   70.21458 &  0.6769040 & 6.412284e-01\\\\\n",
       "\tResiduals & 331 & 34334.2996 &  103.72900 &         NA &           NA\\\\\n",
       "\\end{tabular}\n"
      ],
      "text/markdown": [
       "\n",
       "A anova: 13 × 5\n",
       "\n",
       "| <!--/--> | Df &lt;int&gt; | Sum Sq &lt;dbl&gt; | Mean Sq &lt;dbl&gt; | F value &lt;dbl&gt; | Pr(&gt;F) &lt;dbl&gt; |\n",
       "|---|---|---|---|---|---|\n",
       "| Size |   3 |   310.0990 |  103.36633 |  0.9965036 | 3.946294e-01 |\n",
       "| Age |   5 |  2216.0647 |  443.21293 |  4.2727966 | 8.851841e-04 |\n",
       "| Marital |   4 |   966.2967 |  241.57416 |  2.3288970 | 5.595467e-02 |\n",
       "| Earners |   1 |   137.6100 |  137.61003 |  1.3266302 | 2.502368e-01 |\n",
       "| Employ |   2 |   101.7897 |   50.89487 |  0.4906522 | 6.126715e-01 |\n",
       "| Educ |   6 |  3845.7462 |  640.95771 |  6.1791562 | 3.683411e-06 |\n",
       "| Income |   6 |  4431.1215 |  738.52026 |  7.1197085 | 3.770027e-07 |\n",
       "| JeanShop |  10 | 21166.6725 | 2116.66725 | 20.4057420 | 2.211814e-29 |\n",
       "| Fashion |   5 |   952.5189 |  190.50379 |  1.8365528 | 1.051963e-01 |\n",
       "| Cost |   5 |   974.4209 |  194.88419 |  1.8787821 | 9.750404e-02 |\n",
       "| Interest |   5 |  2870.8837 |  574.17673 |  5.5353539 | 6.525604e-05 |\n",
       "| Spend |   5 |   351.0729 |   70.21458 |  0.6769040 | 6.412284e-01 |\n",
       "| Residuals | 331 | 34334.2996 |  103.72900 |         NA |           NA |\n",
       "\n"
      ],
      "text/plain": [
       "          Df  Sum Sq     Mean Sq    F value    Pr(>F)      \n",
       "Size        3   310.0990  103.36633  0.9965036 3.946294e-01\n",
       "Age         5  2216.0647  443.21293  4.2727966 8.851841e-04\n",
       "Marital     4   966.2967  241.57416  2.3288970 5.595467e-02\n",
       "Earners     1   137.6100  137.61003  1.3266302 2.502368e-01\n",
       "Employ      2   101.7897   50.89487  0.4906522 6.126715e-01\n",
       "Educ        6  3845.7462  640.95771  6.1791562 3.683411e-06\n",
       "Income      6  4431.1215  738.52026  7.1197085 3.770027e-07\n",
       "JeanShop   10 21166.6725 2116.66725 20.4057420 2.211814e-29\n",
       "Fashion     5   952.5189  190.50379  1.8365528 1.051963e-01\n",
       "Cost        5   974.4209  194.88419  1.8787821 9.750404e-02\n",
       "Interest    5  2870.8837  574.17673  5.5353539 6.525604e-05\n",
       "Spend       5   351.0729   70.21458  0.6769040 6.412284e-01\n",
       "Residuals 331 34334.2996  103.72900         NA           NA"
      ]
     },
     "metadata": {},
     "output_type": "display_data"
    }
   ],
   "source": [
    "anova(jean_all.lm)"
   ]
  },
  {
   "cell_type": "markdown",
   "id": "5f11f728",
   "metadata": {},
   "source": [
    "### Create Regression Equations for ALL MLR"
   ]
  },
  {
   "cell_type": "markdown",
   "id": "b58b6f8f",
   "metadata": {},
   "source": [
    "The mathematical model for the regression equation is:\n",
    "                                                       𝑌 = 𝛼 + β1X1 + β2X2 + … + βkXk + ℇ      \n",
    "So that for given variables the values of vary about the regression surface in a Normal distribution with\n",
    "mean 0 and standard deviation."
   ]
  },
  {
   "cell_type": "markdown",
   "id": "d4ec42c5",
   "metadata": {},
   "source": [
    "#### The Regression Equation for the MLR Model for ALL Variables is:  \n",
    "\n",
    "PayJean = 58.79851 -6.34362*SizeJunior -2.02258*SizeMisses + ...."
   ]
  },
  {
   "cell_type": "markdown",
   "id": "89854d55",
   "metadata": {},
   "source": [
    "#### MLR Model Assumptions DEFAULT Test for ALL Variables"
   ]
  },
  {
   "cell_type": "code",
   "execution_count": 57,
   "id": "41f266e7",
   "metadata": {},
   "outputs": [
    {
     "data": {
      "image/png": "[encoded data removed]",
      "text/plain": [
       "Plot with title \"\""
      ]
     },
     "metadata": {
      "image/png": {
       "height": 420,
       "width": 420
      }
     },
     "output_type": "display_data"
    }
   ],
   "source": [
    "par(mfrow=c(2,2))\n",
    "plot(jean_all.lm, which=1:4)"
   ]
  },
  {
   "cell_type": "markdown",
   "id": "f41053c3",
   "metadata": {},
   "source": [
    "#### MLR Model Assumptions OBSERVATION ORDER Test for ALL Variables"
   ]
  },
  {
   "cell_type": "code",
   "execution_count": 58,
   "id": "7e564a49",
   "metadata": {},
   "outputs": [
    {
     "data": {
      "image/png": "[encoded data removed]",
      "text/plain": [
       "plot without title"
      ]
     },
     "metadata": {
      "image/png": {
       "height": 420,
       "width": 420
      }
     },
     "output_type": "display_data"
    }
   ],
   "source": [
    "# extract the model residuals to use in our plots\n",
    "jean_all.res = resid(jean_all.lm)\n",
    "# plot residual in order of observation to test independence of observations\n",
    "plot (seq(1,length(jean_all.res),1),jean_all.res,xlab=\"Observation Order\",ylab=\"Residual\")\n",
    "# dashed horizontal line to show where residual = 0\n",
    "abline(h=0,lty=2)"
   ]
  },
  {
   "cell_type": "markdown",
   "id": "0cc4c7e0",
   "metadata": {},
   "source": [
    "#### ALL Variables MLR Model Independence Test to Assess whether Variables are significant"
   ]
  },
  {
   "cell_type": "code",
   "execution_count": 59,
   "id": "163df1e9",
   "metadata": {},
   "outputs": [
    {
     "data": {
      "text/html": [
       "<table class=\"dataframe\">\n",
       "<caption>A anova: 13 × 6</caption>\n",
       "<thead>\n",
       "\t<tr><th></th><th scope=col>Df</th><th scope=col>Sum of Sq</th><th scope=col>RSS</th><th scope=col>AIC</th><th scope=col>F value</th><th scope=col>Pr(&gt;F)</th></tr>\n",
       "\t<tr><th></th><th scope=col>&lt;dbl&gt;</th><th scope=col>&lt;dbl&gt;</th><th scope=col>&lt;dbl&gt;</th><th scope=col>&lt;dbl&gt;</th><th scope=col>&lt;dbl&gt;</th><th scope=col>&lt;dbl&gt;</th></tr>\n",
       "</thead>\n",
       "<tbody>\n",
       "\t<tr><th scope=row>&lt;none&gt;</th><td>NA</td><td>          NA</td><td>34334.30</td><td>1858.845</td><td>         NA</td><td>          NA</td></tr>\n",
       "\t<tr><th scope=row>Size</th><td> 3</td><td>8.801716e+02</td><td>35214.47</td><td>1862.691</td><td> 2.82843294</td><td>3.858612e-02</td></tr>\n",
       "\t<tr><th scope=row>Age</th><td> 5</td><td>6.678538e+02</td><td>35002.15</td><td>1856.339</td><td> 1.28768965</td><td>2.687426e-01</td></tr>\n",
       "\t<tr><th scope=row>Marital</th><td> 4</td><td>4.826569e+01</td><td>34382.57</td><td>1851.391</td><td> 0.11632640</td><td>9.766902e-01</td></tr>\n",
       "\t<tr><th scope=row>Earners</th><td> 1</td><td>8.187839e-01</td><td>34335.12</td><td>1856.854</td><td> 0.00789349</td><td>9.292586e-01</td></tr>\n",
       "\t<tr><th scope=row>Employ</th><td> 2</td><td>1.192691e+02</td><td>34453.57</td><td>1856.194</td><td> 0.57490705</td><td>5.633181e-01</td></tr>\n",
       "\t<tr><th scope=row>Educ</th><td> 6</td><td>1.368390e+03</td><td>35702.69</td><td>1862.047</td><td> 2.19866201</td><td>4.282012e-02</td></tr>\n",
       "\t<tr><th scope=row>Income</th><td> 6</td><td>7.886546e+02</td><td>35122.95</td><td>1855.679</td><td> 1.26717154</td><td>2.719576e-01</td></tr>\n",
       "\t<tr><th scope=row>JeanShop</th><td>10</td><td>1.545164e+04</td><td>49785.93</td><td>1983.392</td><td>14.89615709</td><td>6.365109e-22</td></tr>\n",
       "\t<tr><th scope=row>Fashion</th><td> 5</td><td>1.759324e+03</td><td>36093.62</td><td>1868.284</td><td> 3.39215526</td><td>5.290819e-03</td></tr>\n",
       "\t<tr><th scope=row>Cost</th><td> 5</td><td>7.410146e+02</td><td>35075.31</td><td>1857.151</td><td> 1.42875103</td><td>2.133324e-01</td></tr>\n",
       "\t<tr><th scope=row>Interest</th><td> 5</td><td>2.855738e+03</td><td>37190.04</td><td>1879.924</td><td> 5.50615112</td><td>6.933370e-05</td></tr>\n",
       "\t<tr><th scope=row>Spend</th><td> 5</td><td>3.510729e+02</td><td>34685.37</td><td>1852.802</td><td> 0.67690403</td><td>6.412284e-01</td></tr>\n",
       "</tbody>\n",
       "</table>\n"
      ],
      "text/latex": [
       "A anova: 13 × 6\n",
       "\\begin{tabular}{r|llllll}\n",
       "  & Df & Sum of Sq & RSS & AIC & F value & Pr(>F)\\\\\n",
       "  & <dbl> & <dbl> & <dbl> & <dbl> & <dbl> & <dbl>\\\\\n",
       "\\hline\n",
       "\t<none> & NA &           NA & 34334.30 & 1858.845 &          NA &           NA\\\\\n",
       "\tSize &  3 & 8.801716e+02 & 35214.47 & 1862.691 &  2.82843294 & 3.858612e-02\\\\\n",
       "\tAge &  5 & 6.678538e+02 & 35002.15 & 1856.339 &  1.28768965 & 2.687426e-01\\\\\n",
       "\tMarital &  4 & 4.826569e+01 & 34382.57 & 1851.391 &  0.11632640 & 9.766902e-01\\\\\n",
       "\tEarners &  1 & 8.187839e-01 & 34335.12 & 1856.854 &  0.00789349 & 9.292586e-01\\\\\n",
       "\tEmploy &  2 & 1.192691e+02 & 34453.57 & 1856.194 &  0.57490705 & 5.633181e-01\\\\\n",
       "\tEduc &  6 & 1.368390e+03 & 35702.69 & 1862.047 &  2.19866201 & 4.282012e-02\\\\\n",
       "\tIncome &  6 & 7.886546e+02 & 35122.95 & 1855.679 &  1.26717154 & 2.719576e-01\\\\\n",
       "\tJeanShop & 10 & 1.545164e+04 & 49785.93 & 1983.392 & 14.89615709 & 6.365109e-22\\\\\n",
       "\tFashion &  5 & 1.759324e+03 & 36093.62 & 1868.284 &  3.39215526 & 5.290819e-03\\\\\n",
       "\tCost &  5 & 7.410146e+02 & 35075.31 & 1857.151 &  1.42875103 & 2.133324e-01\\\\\n",
       "\tInterest &  5 & 2.855738e+03 & 37190.04 & 1879.924 &  5.50615112 & 6.933370e-05\\\\\n",
       "\tSpend &  5 & 3.510729e+02 & 34685.37 & 1852.802 &  0.67690403 & 6.412284e-01\\\\\n",
       "\\end{tabular}\n"
      ],
      "text/markdown": [
       "\n",
       "A anova: 13 × 6\n",
       "\n",
       "| <!--/--> | Df &lt;dbl&gt; | Sum of Sq &lt;dbl&gt; | RSS &lt;dbl&gt; | AIC &lt;dbl&gt; | F value &lt;dbl&gt; | Pr(&gt;F) &lt;dbl&gt; |\n",
       "|---|---|---|---|---|---|---|\n",
       "| &lt;none&gt; | NA |           NA | 34334.30 | 1858.845 |          NA |           NA |\n",
       "| Size |  3 | 8.801716e+02 | 35214.47 | 1862.691 |  2.82843294 | 3.858612e-02 |\n",
       "| Age |  5 | 6.678538e+02 | 35002.15 | 1856.339 |  1.28768965 | 2.687426e-01 |\n",
       "| Marital |  4 | 4.826569e+01 | 34382.57 | 1851.391 |  0.11632640 | 9.766902e-01 |\n",
       "| Earners |  1 | 8.187839e-01 | 34335.12 | 1856.854 |  0.00789349 | 9.292586e-01 |\n",
       "| Employ |  2 | 1.192691e+02 | 34453.57 | 1856.194 |  0.57490705 | 5.633181e-01 |\n",
       "| Educ |  6 | 1.368390e+03 | 35702.69 | 1862.047 |  2.19866201 | 4.282012e-02 |\n",
       "| Income |  6 | 7.886546e+02 | 35122.95 | 1855.679 |  1.26717154 | 2.719576e-01 |\n",
       "| JeanShop | 10 | 1.545164e+04 | 49785.93 | 1983.392 | 14.89615709 | 6.365109e-22 |\n",
       "| Fashion |  5 | 1.759324e+03 | 36093.62 | 1868.284 |  3.39215526 | 5.290819e-03 |\n",
       "| Cost |  5 | 7.410146e+02 | 35075.31 | 1857.151 |  1.42875103 | 2.133324e-01 |\n",
       "| Interest |  5 | 2.855738e+03 | 37190.04 | 1879.924 |  5.50615112 | 6.933370e-05 |\n",
       "| Spend |  5 | 3.510729e+02 | 34685.37 | 1852.802 |  0.67690403 | 6.412284e-01 |\n",
       "\n"
      ],
      "text/plain": [
       "         Df Sum of Sq    RSS      AIC      F value     Pr(>F)      \n",
       "<none>   NA           NA 34334.30 1858.845          NA           NA\n",
       "Size      3 8.801716e+02 35214.47 1862.691  2.82843294 3.858612e-02\n",
       "Age       5 6.678538e+02 35002.15 1856.339  1.28768965 2.687426e-01\n",
       "Marital   4 4.826569e+01 34382.57 1851.391  0.11632640 9.766902e-01\n",
       "Earners   1 8.187839e-01 34335.12 1856.854  0.00789349 9.292586e-01\n",
       "Employ    2 1.192691e+02 34453.57 1856.194  0.57490705 5.633181e-01\n",
       "Educ      6 1.368390e+03 35702.69 1862.047  2.19866201 4.282012e-02\n",
       "Income    6 7.886546e+02 35122.95 1855.679  1.26717154 2.719576e-01\n",
       "JeanShop 10 1.545164e+04 49785.93 1983.392 14.89615709 6.365109e-22\n",
       "Fashion   5 1.759324e+03 36093.62 1868.284  3.39215526 5.290819e-03\n",
       "Cost      5 7.410146e+02 35075.31 1857.151  1.42875103 2.133324e-01\n",
       "Interest  5 2.855738e+03 37190.04 1879.924  5.50615112 6.933370e-05\n",
       "Spend     5 3.510729e+02 34685.37 1852.802  0.67690403 6.412284e-01"
      ]
     },
     "metadata": {},
     "output_type": "display_data"
    }
   ],
   "source": [
    "drop1(jean_all.lm,test=\"F\")"
   ]
  },
  {
   "cell_type": "markdown",
   "id": "0c85f13b",
   "metadata": {},
   "source": [
    "### Create the MLR Model for DEMOGRAPHIC Variables"
   ]
  },
  {
   "cell_type": "code",
   "execution_count": 60,
   "id": "1efd5b24",
   "metadata": {},
   "outputs": [],
   "source": [
    "jean_demographic.lm<-lm(data=Cleaned_jeans_data, PayJean ~ Age+Marital+Earners+Employ+Educ+Income)"
   ]
  },
  {
   "cell_type": "markdown",
   "id": "206b701b",
   "metadata": {},
   "source": [
    "#### Explore the MLR Statistical Summary for DEMOGRAPHIC Variables"
   ]
  },
  {
   "cell_type": "code",
   "execution_count": 61,
   "id": "1b218dd9",
   "metadata": {},
   "outputs": [
    {
     "data": {
      "text/plain": [
       "\n",
       "Call:\n",
       "lm(formula = PayJean ~ Age + Marital + Earners + Employ + Educ + \n",
       "    Income, data = Cleaned_jeans_data)\n",
       "\n",
       "Residuals:\n",
       "    Min      1Q  Median      3Q     Max \n",
       "-25.475  -8.187  -2.344   6.645  73.736 \n",
       "\n",
       "Coefficients:\n",
       "                              Estimate Std. Error t value Pr(>|t|)    \n",
       "(Intercept)                   35.20283    6.80246   5.175 3.77e-07 ***\n",
       "Age25 to 34                   -4.25535    2.54739  -1.670 0.095685 .  \n",
       "Age35 to 44                   -5.24624    2.78333  -1.885 0.060243 .  \n",
       "Age45 to 54                   -3.41684    3.07289  -1.112 0.266901    \n",
       "Age55 to 64                   -1.63846    3.41480  -0.480 0.631650    \n",
       "Age65 Plus                    -4.78717    4.72594  -1.013 0.311754    \n",
       "MaritalDivorced or Separated   5.69982    5.41273   1.053 0.293021    \n",
       "MaritalMarried                 1.98083    4.52507   0.438 0.661831    \n",
       "MaritalSingle                  4.57338    4.87887   0.937 0.349183    \n",
       "MaritalWidowed                 8.94215    6.36015   1.406 0.160587    \n",
       "Earners2                      -1.78959    1.89160  -0.946 0.344738    \n",
       "EmployPart Time               -0.52219    2.11637  -0.247 0.805249    \n",
       "EmployUnemployed              -2.32209    2.11325  -1.099 0.272572    \n",
       "EducCollGrad                   3.41694    2.81349   1.214 0.225350    \n",
       "EducGradDeg                    1.79592    3.05150   0.589 0.556536    \n",
       "EducGradeSch                   9.86118    9.10975   1.082 0.279753    \n",
       "EducHighSchl                  -0.96177    2.80876  -0.342 0.732235    \n",
       "EducSomeColl                   5.22773    2.78828   1.875 0.061607 .  \n",
       "EducSomeHigh                   6.70080    5.35569   1.251 0.211681    \n",
       "Income15 to 24.9             -12.54334    3.64900  -3.437 0.000655 ***\n",
       "Income25 to 34.9             -10.45560    3.40348  -3.072 0.002286 ** \n",
       "Income35 to 49.9              -9.11117    3.19410  -2.852 0.004585 ** \n",
       "Income50 to 74.9              -4.51134    3.17042  -1.423 0.155608    \n",
       "Income75 to 99.9               0.09291    3.74948   0.025 0.980244    \n",
       "IncomeUnder 15               -11.79711    4.20278  -2.807 0.005270 ** \n",
       "---\n",
       "Signif. codes:  0 '***' 0.001 '**' 0.01 '*' 0.05 '.' 0.1 ' ' 1\n",
       "\n",
       "Residual standard error: 12.99 on 364 degrees of freedom\n",
       "Multiple R-squared:  0.1544,\tAdjusted R-squared:  0.09861 \n",
       "F-statistic: 2.769 on 24 and 364 DF,  p-value: 2.511e-05\n"
      ]
     },
     "metadata": {},
     "output_type": "display_data"
    }
   ],
   "source": [
    "summary(jean_demographic.lm)"
   ]
  },
  {
   "cell_type": "markdown",
   "id": "87b84f63",
   "metadata": {},
   "source": [
    "#### Analysis of Variance (ANOVA) for the MLR for DEMOGRAPHIC Variables"
   ]
  },
  {
   "cell_type": "code",
   "execution_count": 62,
   "id": "5b000140",
   "metadata": {},
   "outputs": [
    {
     "data": {
      "text/html": [
       "<table class=\"dataframe\">\n",
       "<caption>A anova: 7 × 5</caption>\n",
       "<thead>\n",
       "\t<tr><th></th><th scope=col>Df</th><th scope=col>Sum Sq</th><th scope=col>Mean Sq</th><th scope=col>F value</th><th scope=col>Pr(&gt;F)</th></tr>\n",
       "\t<tr><th></th><th scope=col>&lt;int&gt;</th><th scope=col>&lt;dbl&gt;</th><th scope=col>&lt;dbl&gt;</th><th scope=col>&lt;dbl&gt;</th><th scope=col>&lt;dbl&gt;</th></tr>\n",
       "</thead>\n",
       "<tbody>\n",
       "\t<tr><th scope=row>Age</th><td>  5</td><td> 1817.40208</td><td>363.48042</td><td>2.1533441</td><td>0.0586860887</td></tr>\n",
       "\t<tr><th scope=row>Marital</th><td>  4</td><td>  872.08255</td><td>218.02064</td><td>1.2916059</td><td>0.2728230305</td></tr>\n",
       "\t<tr><th scope=row>Earners</th><td>  1</td><td>   87.10493</td><td> 87.10493</td><td>0.5160302</td><td>0.4730008257</td></tr>\n",
       "\t<tr><th scope=row>Employ</th><td>  2</td><td>   94.62458</td><td> 47.31229</td><td>0.2802892</td><td>0.7557281150</td></tr>\n",
       "\t<tr><th scope=row>Educ</th><td>  6</td><td> 3790.56494</td><td>631.76082</td><td>3.7427008</td><td>0.0012573702</td></tr>\n",
       "\t<tr><th scope=row>Income</th><td>  6</td><td> 4554.30445</td><td>759.05074</td><td>4.4967964</td><td>0.0002070183</td></tr>\n",
       "\t<tr><th scope=row>Residuals</th><td>364</td><td>61442.51286</td><td>168.79811</td><td>       NA</td><td>          NA</td></tr>\n",
       "</tbody>\n",
       "</table>\n"
      ],
      "text/latex": [
       "A anova: 7 × 5\n",
       "\\begin{tabular}{r|lllll}\n",
       "  & Df & Sum Sq & Mean Sq & F value & Pr(>F)\\\\\n",
       "  & <int> & <dbl> & <dbl> & <dbl> & <dbl>\\\\\n",
       "\\hline\n",
       "\tAge &   5 &  1817.40208 & 363.48042 & 2.1533441 & 0.0586860887\\\\\n",
       "\tMarital &   4 &   872.08255 & 218.02064 & 1.2916059 & 0.2728230305\\\\\n",
       "\tEarners &   1 &    87.10493 &  87.10493 & 0.5160302 & 0.4730008257\\\\\n",
       "\tEmploy &   2 &    94.62458 &  47.31229 & 0.2802892 & 0.7557281150\\\\\n",
       "\tEduc &   6 &  3790.56494 & 631.76082 & 3.7427008 & 0.0012573702\\\\\n",
       "\tIncome &   6 &  4554.30445 & 759.05074 & 4.4967964 & 0.0002070183\\\\\n",
       "\tResiduals & 364 & 61442.51286 & 168.79811 &        NA &           NA\\\\\n",
       "\\end{tabular}\n"
      ],
      "text/markdown": [
       "\n",
       "A anova: 7 × 5\n",
       "\n",
       "| <!--/--> | Df &lt;int&gt; | Sum Sq &lt;dbl&gt; | Mean Sq &lt;dbl&gt; | F value &lt;dbl&gt; | Pr(&gt;F) &lt;dbl&gt; |\n",
       "|---|---|---|---|---|---|\n",
       "| Age |   5 |  1817.40208 | 363.48042 | 2.1533441 | 0.0586860887 |\n",
       "| Marital |   4 |   872.08255 | 218.02064 | 1.2916059 | 0.2728230305 |\n",
       "| Earners |   1 |    87.10493 |  87.10493 | 0.5160302 | 0.4730008257 |\n",
       "| Employ |   2 |    94.62458 |  47.31229 | 0.2802892 | 0.7557281150 |\n",
       "| Educ |   6 |  3790.56494 | 631.76082 | 3.7427008 | 0.0012573702 |\n",
       "| Income |   6 |  4554.30445 | 759.05074 | 4.4967964 | 0.0002070183 |\n",
       "| Residuals | 364 | 61442.51286 | 168.79811 |        NA |           NA |\n",
       "\n"
      ],
      "text/plain": [
       "          Df  Sum Sq      Mean Sq   F value   Pr(>F)      \n",
       "Age         5  1817.40208 363.48042 2.1533441 0.0586860887\n",
       "Marital     4   872.08255 218.02064 1.2916059 0.2728230305\n",
       "Earners     1    87.10493  87.10493 0.5160302 0.4730008257\n",
       "Employ      2    94.62458  47.31229 0.2802892 0.7557281150\n",
       "Educ        6  3790.56494 631.76082 3.7427008 0.0012573702\n",
       "Income      6  4554.30445 759.05074 4.4967964 0.0002070183\n",
       "Residuals 364 61442.51286 168.79811        NA           NA"
      ]
     },
     "metadata": {},
     "output_type": "display_data"
    }
   ],
   "source": [
    "anova(jean_demographic.lm)"
   ]
  }
 ],
 "metadata": {
  "kernelspec": {
   "display_name": "R",
   "language": "R",
   "name": "ir"
  },
  "language_info": {
   "codemirror_mode": "r",
   "file_extension": ".r",
   "mimetype": "text/x-r-source",
   "name": "R",
   "pygments_lexer": "r",
   "version": "4.1.2"
  }
 },
 "nbformat": 4,
 "nbformat_minor": 5
}
